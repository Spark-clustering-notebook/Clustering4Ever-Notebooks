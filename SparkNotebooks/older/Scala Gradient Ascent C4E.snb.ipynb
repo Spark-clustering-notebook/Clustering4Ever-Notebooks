{
  "metadata" : {
    "id" : "00b93ee8-b27c-430b-b2cb-09bc294c2b20",
    "name" : "Scala Gradient Ascent",
    "user_save_timestamp" : "2018-04-04T17:17:57.904Z",
    "auto_save_timestamp" : "1970-01-01T01:00:00.000Z",
    "language_info" : {
      "name" : "scala",
      "file_extension" : "scala",
      "codemirror_mode" : "text/x-scala"
    },
    "trusted" : true,
    "sparkNotebook" : null,
    "customLocalRepo" : null,
    "customRepos" : [
      "clustering4ever % default % http://dl.bintray.com/clustering4ever/C4E % maven"
    ],
    "customDeps" : [
      "com.github.haifengl:smile-scala_2.11:1.5.0",
      "org.apache.sanselan % sanselan % 0.97-incubator",
      "org.clustering4ever:clustering4ever_2.11:0.7.2"
    ],
    "customImports" : null,
    "customArgs" : null,
    "customSparkConf" : null,
    "customVars" : null
  },
  "cells" : [
    {
      "metadata" : {
        "id" : "56E473B68DE547C884E92C173F0C2CC7"
      },
      "cell_type" : "markdown",
      "source" : "# [Clustering4Ever](https://github.com/Clustering4Ever/Clustering4Ever) on [SparkNotebook](http://spark-notebook.io/) by [LIPN](https://lipn.univ-paris13.fr/) [A3](https://lipn.univ-paris13.fr/accueil/equipe/a3/) team"
    },
    {
      "metadata" : {
        "id" : "9BE3CBFDDB324D29914085C97E53D087"
      },
      "cell_type" : "markdown",
      "source" : "# Scala Gradient Ascent"
    },
    {
      "metadata" : {
        "trusted" : true,
        "input_collapsed" : false,
        "collapsed" : false,
        "id" : "2723CA508CC84A868DB0D63A7DB41C03"
      },
      "cell_type" : "code",
      "source" : [
        "import smile.plot._\n",
        "import scala.io.Source\n",
        "import org.clustering4ever.math.distances.scalar.Euclidean\n",
        "import org.clustering4ever.util.ScalaImplicits._\n",
        "import org.clustering4ever.scala.clusterizables.EasyClusterizableExt\n",
        "import org.clustering4ever.scala.vectorizables.RealVector\n",
        "import org.clustering4ever.scala.clustering.meanshift.GradientAscent\n",
        "import org.clustering4ever.scala.kernels.KernelNature\n",
        "import scala.collection.{immutable, mutable}\n",
        "import org.clustering4ever.scala.kernels._"
      ],
      "outputs" : [
        {
          "name" : "stdout",
          "output_type" : "stream",
          "text" : "import smile.plot._\nimport scala.io.Source\nimport org.clustering4ever.math.distances.scalar.Euclidean\nimport org.clustering4ever.util.ScalaImplicits._\nimport org.clustering4ever.scala.clusterizables.EasyClusterizableExt\nimport org.clustering4ever.scala.vectorizables.RealVector\nimport org.clustering4ever.scala.clustering.meanshift.GradientAscent\nimport org.clustering4ever.scala.kernels.KernelNature\nimport scala.collection.{immutable, mutable}\nimport org.clustering4ever.scala.kernels._\n"
        },
        {
          "metadata" : { },
          "data" : {
            "text/html" : ""
          },
          "output_type" : "execute_result",
          "execution_count" : 5,
          "time" : "Took: 0.907s, at 2018-11-15 21:31"
        }
      ]
    },
    {
      "metadata" : {
        "id" : "C001456FD09A4F8697712D9D1DF3EB17"
      },
      "cell_type" : "markdown",
      "source" : "## Download dataset Aggregation"
    },
    {
      "metadata" : {
        "trusted" : true,
        "input_collapsed" : false,
        "collapsed" : false,
        "id" : "ADF3A07D58F74656A91E11A1FF13920B"
      },
      "cell_type" : "code",
      "source" : [
        ":sh wget -P /tmp/ http://www.clustering4ever.org/Datasets/Aggregation/aggregation.csv\n",
        ":sh wget -P /tmp/ http://www.clustering4ever.org/Datasets/Aggregation/labels"
      ],
      "outputs" : [
        {
          "name" : "stdout",
          "output_type" : "stream",
          "text" : "--2018-11-15 21:31:24--  http://www.clustering4ever.org/Datasets/Aggregation/aggregation.csv\nResolving www.clustering4ever.org (www.clustering4ever.org)... 62.210.16.62\nConnecting to www.clustering4ever.org (www.clustering4ever.org)|62.210.16.62|:80... connected.\nHTTP request sent, awaiting response... 200 OK\nLength: 8063 (7.9K) [text/csv]\nSaving to: ‘/tmp/aggregation.csv.1’\n\n     0K .......                                               100% 6.78M=0.001s\n\n2018-11-15 21:31:24 (6.78 MB/s) - ‘/tmp/aggregation.csv.1’ saved [8063/8063]\n\n:sh: Scheme missing.\n--2018-11-15 21:31:24--  http://wget/\nResolving wget (wget)... failed: Name or service not known.\nwget: unable to resolve host address ‘wget’\n--2018-11-15 21:31:24--  http://www.clustering4ever.org/Datasets/Aggregation/labels\nReusing existing connection to www.clustering4ever.org:80.\nHTTP request sent, awaiting response... 200 OK\nLength: 1576 (1.5K)\nSaving to: ‘/tmp/labels.1’\n\n     0K .                                                     100%  188M=0s\n\n2018-11-15 21:31:24 (188 MB/s) - ‘/tmp/labels.1’ saved [1576/1576]\n\nFINISHED --2018-11-15 21:31:24--\nTotal wall clock time: 0.05s\nDownloaded: 2 files, 9.4K in 0.001s (8.05 MB/s)\njava.lang.RuntimeException: Nonzero exit value: 4\n  at scala.sys.package$.error(package.scala:27)\n  at scala.sys.process.ProcessBuilderImpl$AbstractBuilder.slurp(ProcessBuilderImpl.scala:132)\n  at scala.sys.process.ProcessBuilderImpl$AbstractBuilder.$bang$bang(ProcessBuilderImpl.scala:103)\n  ... 69 elided\n"
        }
      ]
    },
    {
      "metadata" : {
        "id" : "4BEB170294834C8B92F180754CF0F42F"
      },
      "cell_type" : "markdown",
      "source" : "## Import data as ParArray[ArrayBuffer[Double]]"
    },
    {
      "metadata" : {
        "trusted" : true,
        "input_collapsed" : false,
        "collapsed" : false,
        "id" : "063B66723A63401CBC2F0A23BE2C2E18"
      },
      "cell_type" : "code",
      "source" : [
        "val path = \"/tmp/aggregation.csv\"\n",
        "val data = Source.fromFile(path).getLines.toSeq.map( x => mutable.ArrayBuffer(x.split(\",\").map(_.toDouble):_*)).toParArray.zipWithIndex\n",
        "    .map{ case (v, id) => new EasyClusterizableExt(id, new RealVector(v)) }\n",
        "val labelsPath = \"/tmp/labels\""
      ],
      "outputs" : [
        {
          "name" : "stdout",
          "output_type" : "stream",
          "text" : "path: String = /tmp/aggregation.csv\ndata: scala.collection.parallel.mutable.ParArray[org.clustering4ever.scala.clusterizables.EasyClusterizableExt[Int,scala.collection.mutable.ArrayBuffer[Double],scala.collection.mutable.ArrayBuffer[Double]]] = ParArray(EasyClusterizableExt(0,RealVector(ArrayBuffer(15.55, 28.65)),None,Map()), EasyClusterizableExt(1,RealVector(ArrayBuffer(14.9, 27.55)),None,Map()), EasyClusterizableExt(2,RealVector(ArrayBuffer(14.45, 28.35)),None,Map()), EasyClusterizableExt(3,RealVector(ArrayBuffer(14.15, 28.8)),None,Map()), EasyClusterizableExt(4,RealVector(ArrayBuffer(13.75, 28.05)),None,Map()), EasyClusterizableExt(5,RealVector(ArrayBuffer(13.35, 28.45)),None,Map()), EasyClusterizableExt(6,RealVector(ArrayBuffer(13.0, 29.15)),None,Map()), EasyClusterizableExt(7,RealV..."
        },
        {
          "metadata" : { },
          "data" : {
            "text/html" : ""
          },
          "output_type" : "execute_result",
          "execution_count" : 6,
          "time" : "Took: 0.958s, at 2018-11-15 21:31"
        }
      ]
    },
    {
      "metadata" : {
        "id" : "DB906BE4458347E98566175F44A41B25"
      },
      "cell_type" : "markdown",
      "source" : "## Parameters "
    },
    {
      "metadata" : {
        "trusted" : true,
        "input_collapsed" : false,
        "collapsed" : false,
        "id" : "7B7F65B92A1849639D25B8260E8FC13D"
      },
      "cell_type" : "code",
      "source" : [
        "val classicEuclidean = new Euclidean[mutable.ArrayBuffer[Double]](false)\n",
        "val k = 40\n",
        "val k2 = 1\n",
        "val epsilon = 0.00001\n",
        "val maxNumberIter = 50"
      ],
      "outputs" : [
        {
          "name" : "stdout",
          "output_type" : "stream",
          "text" : "classicEuclidean: org.clustering4ever.math.distances.scalar.Euclidean[scala.collection.mutable.ArrayBuffer[Double]] = Euclidean distance without root applied\nk: Int = 40\nk2: Int = 1\nepsilon: Double = 1.0E-5\nmaxNumberIter: Int = 50\n"
        },
        {
          "metadata" : { },
          "data" : {
            "text/html" : ""
          },
          "output_type" : "execute_result",
          "execution_count" : 9,
          "time" : "Took: 0.787s, at 2018-11-15 21:31"
        }
      ]
    },
    {
      "metadata" : {
        "trusted" : true,
        "input_collapsed" : false,
        "collapsed" : false,
        "id" : "3ACC978A00A140DE898B02D95B00E214"
      },
      "cell_type" : "code",
      "source" : [
        "val knnRealKernel = new KernelArgsKnnReal(k = 50, metric = classicEuclidean)\n",
        "val knnEuclideanKernel = new KernelArgsEuclideanKnn(k = 50, metric = classicEuclidean)\n",
        "val gaussianArgs = new KernelArgsGaussian(bandwidth = 0.75, metric = classicEuclidean)\n",
        "val flatArgs = new KernelArgsFlat(bandwidth = 0.75, metric = classicEuclidean, lambda = 1D)\n",
        "val sigmoidArgs = new KernelArgsSigmoid(a = 1D, b = 3D)"
      ],
      "outputs" : [
        {
          "name" : "stdout",
          "output_type" : "stream",
          "text" : "knnRealKernel: org.clustering4ever.scala.kernels.KernelArgsKnnReal[scala.collection.mutable.ArrayBuffer,org.clustering4ever.math.distances.scalar.Euclidean] = KernelArgsKnnReal(50,Euclidean distance without root applied)\nknnEuclideanKernel: org.clustering4ever.scala.kernels.KernelArgsEuclideanKnn[scala.collection.mutable.ArrayBuffer,org.clustering4ever.math.distances.scalar.Euclidean] = KernelArgsEuclideanKnn(50,Euclidean distance without root applied)\ngaussianArgs: org.clustering4ever.scala.kernels.KernelArgsGaussian[scala.collection.mutable.ArrayBuffer,org.clustering4ever.math.distances.scalar.Euclidean] = KernelArgsGaussian(0.75,Euclidean distance without root applied)\nflatArgs: org.clustering4ever.scala.kernels.KernelArgsFlat[scala.collection.mutable.ArrayBuffer,org.clustering4ever...."
        },
        {
          "metadata" : { },
          "data" : {
            "text/html" : ""
          },
          "output_type" : "execute_result",
          "execution_count" : 10,
          "time" : "Took: 0.995s, at 2018-11-15 21:32"
        }
      ]
    },
    {
      "metadata" : {
        "trusted" : true,
        "input_collapsed" : false,
        "collapsed" : false,
        "id" : "6E2D7CB9F96D4C13854803E8CBD0DE39"
      },
      "cell_type" : "code",
      "source" : [
        "val gaussian = new KernelGaussian(gaussianArgs)\n",
        "val flat = new KernelFlat(flatArgs)\n",
        "val sigmoid = new KernelSigmoid[mutable.ArrayBuffer](sigmoidArgs)\n",
        "val knnReal = new KnnKernelReal(knnRealKernel)\n",
        "val knnEuc = new KnnKernelEuclidean(knnEuclideanKernel)"
      ],
      "outputs" : [
        {
          "name" : "stdout",
          "output_type" : "stream",
          "text" : "gaussian: org.clustering4ever.scala.kernels.KernelGaussian[scala.collection.mutable.ArrayBuffer,org.clustering4ever.math.distances.scalar.Euclidean] = KernelGaussian(KernelArgsGaussian(0.75,Euclidean distance without root applied))\nflat: org.clustering4ever.scala.kernels.KernelFlat[scala.collection.mutable.ArrayBuffer,org.clustering4ever.math.distances.scalar.Euclidean] = KernelFlat(KernelArgsFlat(0.75,Euclidean distance without root applied,1.0))\nsigmoid: org.clustering4ever.scala.kernels.KernelSigmoid[scala.collection.mutable.ArrayBuffer] = KernelSigmoid(KernelArgsSigmoid(1.0,3.0))\nknnReal: org.clustering4ever.scala.kernels.KnnKernelReal[scala.collection.mutable.ArrayBuffer,org.clustering4ever.math.distances.scalar.Euclidean,org.clustering4ever.scala.kernels.KernelArgsKnnReal] = KnnKe..."
        },
        {
          "metadata" : { },
          "data" : {
            "text/html" : ""
          },
          "output_type" : "execute_result",
          "execution_count" : 11,
          "time" : "Took: 0.798s, at 2018-11-15 21:32"
        }
      ]
    },
    {
      "metadata" : {
        "id" : "351DECE0EB4B4DAE8395D89284DABB26"
      },
      "cell_type" : "markdown",
      "source" : "## Run the algorithm"
    },
    {
      "metadata" : {
        "trusted" : true,
        "input_collapsed" : false,
        "collapsed" : false,
        "id" : "4B5F70351A59459AB5A5DC7DBD18C7D7"
      },
      "cell_type" : "code",
      "source" : [
        "val t1 = System.currentTimeMillis\n",
        "val convergedDS =  GradientAscent.run(data, epsilon, maxNumberIter, sigmoid, classicEuclidean, Int.MaxValue)\n",
        "val t2 = System.currentTimeMillis\n",
        "\n",
        "(t2 - t1) / 1000D"
      ],
      "outputs" : [
        {
          "name" : "stdout",
          "output_type" : "stream",
          "text" : "t1: Long = 1542314103830\nconvergedDS: scala.collection.GenSeq[org.clustering4ever.scala.clusterizables.EasyClusterizableExt[Int,scala.collection.mutable.ArrayBuffer[Double],scala.collection.mutable.ArrayBuffer[Double]]] = ParArray(EasyClusterizableExt(0,RealVector(ArrayBuffer(15.55, 28.65)),None,Map(2147483647 -> ArrayBuffer(19.56681472081219, 14.171763959390866))), EasyClusterizableExt(1,RealVector(ArrayBuffer(14.9, 27.55)),None,Map(2147483647 -> ArrayBuffer(19.56681472081219, 14.171763959390866))), EasyClusterizableExt(2,RealVector(ArrayBuffer(14.45, 28.35)),None,Map(2147483647 -> ArrayBuffer(19.56681472081219, 14.171763959390866))), EasyClusterizableExt(3,RealVector(ArrayBuffer(14.15, 28.8)),None,Map(2147483647 -> ArrayBuffer(19.56681472081219, 14.171763959390866))), EasyClusterizabl..."
        },
        {
          "metadata" : { },
          "data" : {
            "text/html" : "0.187"
          },
          "output_type" : "execute_result",
          "execution_count" : 22,
          "time" : "Took: 1.027s, at 2018-11-15 21:35"
        }
      ]
    },
    {
      "metadata" : {
        "id" : "770CC40C9DD74ABA8F3E84B4C92BF913"
      },
      "cell_type" : "markdown",
      "source" : "\n\n# Plot original and converged datsasets"
    },
    {
      "metadata" : {
        "trusted" : true,
        "input_collapsed" : false,
        "collapsed" : false,
        "id" : "0A0382CA6A1A46E08BA3BF495429959D"
      },
      "cell_type" : "code",
      "source" : [
        "plot(convergedDS.map(_.vector.toArray).toArray)\n",
        "// plot(convergedDS.map(_.altVectors.get(Gradient_Ascent).toArray).toArray)\n",
        "plot(convergedDS.map(_.altVectors(Int.MaxValue).toArray).toArray)\n",
        "// plot(convergedDS.map(_.altVectors(1).toArray).toArray)"
      ],
      "outputs" : [
        {
          "name" : "stdout",
          "output_type" : "stream",
          "text" : "res35: smile.plot.Window = Window(javax.swing.JFrame[frame4,460,37,1000x1000,invalid,layout=java.awt.BorderLayout,title=Smile Plot 10,resizable,normal,defaultCloseOperation=DISPOSE_ON_CLOSE,rootPane=javax.swing.JRootPane[,5,25,990x970,invalid,layout=javax.swing.JRootPane$RootLayout,alignmentX=0.0,alignmentY=0.0,border=,flags=16777673,maximumSize=,minimumSize=,preferredSize=],rootPaneCheckingEnabled=true],smile.plot.PlotCanvas[,0,0,0x0,invalid,layout=java.awt.BorderLayout,alignmentX=0.0,alignmentY=0.0,border=,flags=9,maximumSize=,minimumSize=,preferredSize=])\n"
        },
        {
          "metadata" : { },
          "data" : {
            "text/html" : "Window(javax.swing.JFrame[frame4,460,37,1000x1000,invalid,layout=java.awt.BorderLayout,title=Smile Plot 10,resizable,normal,defaultCloseOperation=DISPOSE_ON_CLOSE,rootPane=javax.swing.JRootPane[,5,25,990x970,invalid,layout=javax.swing.JRootPane$RootLayout,alignmentX=0.0,alignmentY=0.0,border=,flags=16777673,maximumSize=,minimumSize=,preferredSize=],rootPaneCheckingEnabled=true],smile.plot.PlotCanvas[,0,0,0x0,invalid,layout=java.awt.BorderLayout,alignmentX=0.0,alignmentY=0.0,border=,flags=9,maximumSize=,minimumSize=,preferredSize=])"
          },
          "output_type" : "execute_result",
          "execution_count" : 23,
          "time" : "Took: 0.862s, at 2018-11-15 21:35"
        }
      ]
    }
  ],
  "nbformat" : 4
}
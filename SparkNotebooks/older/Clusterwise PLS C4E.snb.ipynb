{
  "metadata" : {
    "id" : "fb4e17bc-b2a5-443a-adb8-594809ccc4da",
    "name" : "Clusterwise PLS C4E",
    "user_save_timestamp" : "1970-01-01T07:00:00.000Z",
    "auto_save_timestamp" : "1970-01-01T07:00:00.000Z",
    "language_info" : {
      "name" : "scala",
      "file_extension" : "scala",
      "codemirror_mode" : "text/x-scala"
    },
    "trusted" : true,
    "sparkNotebook" : null,
    "customLocalRepo" : null,
    "customRepos" : [
      "clustering4ever % default % http://dl.bintray.com/clustering4ever/C4E % maven"
    ],
    "customDeps" : [
      "org.clustering4ever % clustering4ever_2.11 % 0.7.2"
    ],
    "customImports" : null,
    "customArgs" : null,
    "customSparkConf" : null,
    "customVars" : null
  },
  "cells" : [
    {
      "metadata" : {
        "id" : "7AEB05514E2F4E01A85FBB6EF6F89F7A"
      },
      "cell_type" : "markdown",
      "source" : "# [Clustering4Ever](https://github.com/Clustering4Ever/Clustering4Ever) on [SparkNotebook](http://spark-notebook.io/) by [LIPN](https://lipn.univ-paris13.fr/) [A3](https://lipn.univ-paris13.fr/accueil/equipe/a3/) team"
    },
    {
      "metadata" : {
        "id" : "EAFAEFF8A91E452E9315A7C3829D11FF"
      },
      "cell_type" : "markdown",
      "source" : "# Clusterwise PLS"
    },
    {
      "metadata" : {
        "trusted" : true,
        "input_collapsed" : false,
        "collapsed" : false,
        "id" : "361882DDBB324A1B9EECEC7B86ACF36B"
      },
      "cell_type" : "code",
      "source" : [
        "import org.clustering4ever.spark.clustering.clusterwise.{Clusterwise, ClusterwiseCore, PLS, ClusterwiseModel}\n",
        "import scala.collection.{mutable, immutable}"
      ],
      "outputs" : [
        {
          "name" : "stdout",
          "output_type" : "stream",
          "text" : "import org.clustering4ever.spark.clustering.clusterwise.{Clusterwise, ClusterwiseCore, PLS, ClusterwiseModel}\nimport scala.collection.{mutable, immutable}\n"
        },
        {
          "metadata" : { },
          "data" : {
            "text/html" : ""
          },
          "output_type" : "execute_result",
          "execution_count" : 3,
          "time" : "Took: 0.967s, at 2018-11-15 21:44"
        }
      ]
    },
    {
      "metadata" : {
        "trusted" : true,
        "input_collapsed" : false,
        "collapsed" : false,
        "id" : "7B869CA697E844FE97C92C1A0D8505F7"
      },
      "cell_type" : "code",
      "source" : [
        ":sh wget -P /tmp/ http://www.clustering4ever.org/Datasets/Clusterwise/simdata.csv"
      ],
      "outputs" : [
        {
          "name" : "stdout",
          "output_type" : "stream",
          "text" : "--2018-11-15 21:44:35--  http://www.clustering4ever.org/Datasets/Clusterwise/simdata.csv\nResolving www.clustering4ever.org (www.clustering4ever.org)... 62.210.16.62\nConnecting to www.clustering4ever.org (www.clustering4ever.org)|62.210.16.62|:80... connected.\nHTTP request sent, awaiting response... 200 OK\nLength: 61840 (60K) [text/csv]\nSaving to: ‘/tmp/simdata.csv’\n\n     0K .......... .......... .......... .......... .......... 82% 2.50M 0s\n    50K ..........                                            100% 5.84M=0.02s\n\n2018-11-15 21:44:35 (2.77 MB/s) - ‘/tmp/simdata.csv’ saved [61840/61840]\n\n\nimport sys.process._\n"
        },
        {
          "metadata" : { },
          "data" : {
            "text/plain" : ""
          },
          "output_type" : "execute_result",
          "execution_count" : 4,
          "time" : "Took: 1.802s, at 2018-11-15 21:44"
        }
      ]
    },
    {
      "metadata" : {
        "trusted" : true,
        "input_collapsed" : false,
        "collapsed" : false,
        "id" : "58083E2F2A81418288F6A1EC36218173"
      },
      "cell_type" : "code",
      "source" : [
        "val dataXY = scala.io.Source.fromFile(\"/tmp/simdata.csv\")\n",
        "  .getLines\n",
        "  .toSeq\n",
        "  .map(_.split(',').map(_.toDouble))\n",
        "  .map( a => (mutable.ArrayBuffer(a.take(10):_*), mutable.ArrayBuffer(a.takeRight(3):_*)) )\n",
        "  .zipWithIndex\n",
        "  .map{ case(xy,idx) => (idx, xy) }\n",
        "  .toBuffer"
      ],
      "outputs" : [
        {
          "name" : "stdout",
          "output_type" : "stream",
          "text" : "dataXY: scala.collection.mutable.Buffer[(Int, (scala.collection.mutable.ArrayBuffer[Double], scala.collection.mutable.ArrayBuffer[Double]))] = ArrayBuffer((0,(ArrayBuffer(4.058845733, 6.405834969, 4.943772245, 4.191393637, 5.691694039, 6.18161279, 6.182385889, 5.982450545, 6.139507172, 7.42310638),ArrayBuffer(6.508480628, 6.009293422, 6.61563233))), (1,(ArrayBuffer(5.102442757, 4.716437077, 4.692925255, 4.839302826, 4.02386069, 2.158591158, 2.901072862, 2.816463237, 3.501312504, 3.084936398),ArrayBuffer(5.238588818, 5.070952054, 5.370006441))), (2,(ArrayBuffer(4.766958169, 4.838583906, 6.485887384, 4.404467358, 5.211054103, 4.865929818, 5.278244008, 4.604447037, 4.98848043, 4.768183695),ArrayBuffer(5.917350113, 5.666997815, 6.045082662))), (3,(ArrayBuffer(6.138171718, 4.494158628, 3.410..."
        },
        {
          "metadata" : { },
          "data" : {
            "text/html" : ""
          },
          "output_type" : "execute_result",
          "execution_count" : 5,
          "time" : "Took: 1.401s, at 2018-11-15 21:44"
        }
      ]
    },
    {
      "metadata" : {
        "id" : "A4805598BDAA4F648643F86933261DD8"
      },
      "cell_type" : "markdown",
      "source" : "## Run a full Clusterwise\n### Parameters"
    },
    {
      "metadata" : {
        "trusted" : true,
        "input_collapsed" : false,
        "collapsed" : false,
        "id" : "A95C7BF846A342BF8504D9FCAECEC04F"
      },
      "cell_type" : "code",
      "source" : [
        "val init = 20\n",
        "val nbCV = 10\n",
        "val g = 4\n",
        "val h = 2\n",
        "val sizeBloc = 10\n",
        "val kPred = 25\n",
        "val nbLaunch = 1\n",
        "val standardization = true\n",
        "val withY = false"
      ],
      "outputs" : [
        {
          "name" : "stdout",
          "output_type" : "stream",
          "text" : "init: Int = 20\nnbCV: Int = 10\ng: Int = 4\nh: Int = 2\nsizeBloc: Int = 10\nkPred: Int = 25\nnbLaunch: Int = 1\nstandardization: Boolean = true\nwithY: Boolean = false\n"
        },
        {
          "metadata" : { },
          "data" : {
            "text/html" : ""
          },
          "output_type" : "execute_result",
          "execution_count" : 6,
          "time" : "Took: 0.798s, at 2018-11-15 21:44"
        }
      ]
    },
    {
      "metadata" : {
        "trusted" : true,
        "input_collapsed" : false,
        "collapsed" : false,
        "id" : "9AC6DDB5C3514697BC44611695E8BA27"
      },
      "cell_type" : "code",
      "source" : [
        "val t0 = System.currentTimeMillis\n",
        "val (sqrmseCalAndVal, _) = Clusterwise.run(sc, dataXY, g, h, nbCV, init, kPred, withY, standardization, sizeBloc)\n",
        "val t1 = System.currentTimeMillis\n",
        "\n",
        "(t1 - t0) / 1000D"
      ],
      "outputs" : [
        {
          "name" : "stdout",
          "output_type" : "stream",
          "text" : "t0: Long = 1542314679276\nsqrmseCalAndVal: Array[(Double, Double)] = Array((0.09252013710709693,34.91238405713518), (0.09189052491446877,25.66234010032008), (0.08932045125224079,30.157801039112815), (0.09000851746201777,38.46621666731812), (0.09538990478774245,19.769584714423434), (0.08816836601974247,41.15048969351536), (0.08917637190848941,34.05950188807862), (0.09412460295023804,23.598097950987384), (0.09385282714903902,28.294509672348486), (0.08771507810573619,33.74551913561189))\nt1: Long = 1542314699975\nres8: Double = 20.699\n"
        },
        {
          "metadata" : { },
          "data" : {
            "text/html" : "20.699"
          },
          "output_type" : "execute_result",
          "execution_count" : 7,
          "time" : "Took: 22.047s, at 2018-11-15 21:45"
        }
      ]
    },
    {
      "metadata" : {
        "trusted" : true,
        "input_collapsed" : false,
        "collapsed" : false,
        "presentation" : {
          "tabs_state" : "{\n  \"tab_id\": \"#tab1653156906-0\"\n}",
          "pivot_chart_state" : "{\n  \"hiddenAttributes\": [],\n  \"menuLimit\": 200,\n  \"cols\": [],\n  \"rows\": [],\n  \"vals\": [],\n  \"exclusions\": {},\n  \"inclusions\": {},\n  \"unusedAttrsVertical\": 85,\n  \"autoSortUnusedAttrs\": false,\n  \"inclusionsInfo\": {},\n  \"aggregatorName\": \"Count\",\n  \"rendererName\": \"Table\"\n}"
        },
        "id" : "1381098728D4439C8A4992CE8B0780E2"
      },
      "cell_type" : "code",
      "source" : [
        "sqrmseCalAndVal"
      ],
      "outputs" : [
        {
          "name" : "stdout",
          "output_type" : "stream",
          "text" : "res10: Array[(Double, Double)] = Array((0.09252013710709693,34.91238405713518), (0.09189052491446877,25.66234010032008), (0.08932045125224079,30.157801039112815), (0.09000851746201777,38.46621666731812), (0.09538990478774245,19.769584714423434), (0.08816836601974247,41.15048969351536), (0.08917637190848941,34.05950188807862), (0.09412460295023804,23.598097950987384), (0.09385282714903902,28.294509672348486), (0.08771507810573619,33.74551913561189))\n"
        },
        {
          "metadata" : { },
          "data" : {
            "text/html" : "<div>\n      <script data-this=\"{&quot;dataId&quot;:&quot;anon211d4cae3a5c795fcbcc101484231087&quot;,&quot;dataInit&quot;:[],&quot;genId&quot;:&quot;1653156906&quot;}\" type=\"text/x-scoped-javascript\">/*<![CDATA[*/req(['../javascripts/notebook/playground','../javascripts/notebook/magic/tabs'], \n      function(playground, _magictabs) {\n        // data ==> data-this (in observable.js's scopedEval) ==> this in JS => { dataId, dataInit, ... }\n        // this ==> scope (in observable.js's scopedEval) ==> this.parentElement ==> div.container below (toHtml)\n\n        playground.call(data,\n                        this\n                        ,\n                        {\n    \"f\": _magictabs,\n    \"o\": {}\n  }\n  \n                        \n                        \n                      );\n      }\n    );/*]]>*/</script>\n    <div>\n      <div>\n        <ul class=\"nav nav-tabs\" id=\"ul1653156906\"><li>\n              <a href=\"#tab1653156906-0\"><i class=\"fa fa-table\"/></a>\n            </li><li>\n              <a href=\"#tab1653156906-1\"><i class=\"fa fa-dot-circle-o\"/></a>\n            </li><li>\n              <a href=\"#tab1653156906-2\"><i class=\"fa fa-line-chart\"/></a>\n            </li><li>\n              <a href=\"#tab1653156906-3\"><i class=\"fa fa-bar-chart\"/></a>\n            </li><li>\n              <a href=\"#tab1653156906-4\"><i class=\"fa fa-cubes\"/></a>\n            </li></ul>\n\n        <div class=\"tab-content\" id=\"tab1653156906\"><div class=\"tab-pane\" id=\"tab1653156906-0\">\n            <div>\n      <script data-this=\"{&quot;dataId&quot;:&quot;anonac282b30f194fa02d8321520720327e7&quot;,&quot;dataInit&quot;:[{&quot;_1&quot;:0.09252013710709693,&quot;_2&quot;:34.91238405713518},{&quot;_1&quot;:0.09189052491446877,&quot;_2&quot;:25.66234010032008},{&quot;_1&quot;:0.08932045125224079,&quot;_2&quot;:30.157801039112815},{&quot;_1&quot;:0.09000851746201777,&quot;_2&quot;:38.46621666731812},{&quot;_1&quot;:0.09538990478774245,&quot;_2&quot;:19.769584714423434},{&quot;_1&quot;:0.08816836601974247,&quot;_2&quot;:41.15048969351536},{&quot;_1&quot;:0.08917637190848941,&quot;_2&quot;:34.05950188807862},{&quot;_1&quot;:0.09412460295023804,&quot;_2&quot;:23.598097950987384},{&quot;_1&quot;:0.09385282714903902,&quot;_2&quot;:28.294509672348486},{&quot;_1&quot;:0.08771507810573619,&quot;_2&quot;:33.74551913561189}],&quot;genId&quot;:&quot;684941981&quot;}\" type=\"text/x-scoped-javascript\">/*<![CDATA[*/req(['../javascripts/notebook/playground','../javascripts/notebook/magic/tableChart'], \n      function(playground, _magictableChart) {\n        // data ==> data-this (in observable.js's scopedEval) ==> this in JS => { dataId, dataInit, ... }\n        // this ==> scope (in observable.js's scopedEval) ==> this.parentElement ==> div.container below (toHtml)\n\n        playground.call(data,\n                        this\n                        ,\n                        {\n    \"f\": _magictableChart,\n    \"o\": {\"headers\":[\"_1\",\"_2\"],\"width\":600,\"height\":400}\n  }\n  \n                        \n                        \n                      );\n      }\n    );/*]]>*/</script>\n    <div>\n      <span class=\"chart-total-item-count\"><p data-bind=\"text: value\"><script data-this=\"{&quot;valueId&quot;:&quot;anoncdce3415a3dba0e4fd5e21ae5d26ef20&quot;,&quot;initialValue&quot;:&quot;10&quot;}\" type=\"text/x-scoped-javascript\">/*<![CDATA[*/\nreq(\n['observable', 'knockout'],\nfunction (O, ko) {\n  ko.applyBindings({\n      value: O.makeObservable(valueId, initialValue)\n    },\n    this\n  );\n});\n        /*]]>*/</script></p> entries total</span>\n      <span class=\"chart-sampling-warning\"><p data-bind=\"text: value\"><script data-this=\"{&quot;valueId&quot;:&quot;anon4360b5bf75317b09939c3784aba5cec9&quot;,&quot;initialValue&quot;:&quot;&quot;}\" type=\"text/x-scoped-javascript\">/*<![CDATA[*/\nreq(\n['observable', 'knockout'],\nfunction (O, ko) {\n  ko.applyBindings({\n      value: O.makeObservable(valueId, initialValue)\n    },\n    this\n  );\n});\n        /*]]>*/</script></p></span>\n      <div>\n      </div>\n    </div></div>\n            </div><div class=\"tab-pane\" id=\"tab1653156906-1\">\n            <div>\n      <script data-this=\"{&quot;dataId&quot;:&quot;anon96b68820a1427a2b700e3fe06b90a9d7&quot;,&quot;dataInit&quot;:[{&quot;_1&quot;:0.09252013710709693,&quot;_2&quot;:34.91238405713518},{&quot;_1&quot;:0.09189052491446877,&quot;_2&quot;:25.66234010032008},{&quot;_1&quot;:0.08932045125224079,&quot;_2&quot;:30.157801039112815},{&quot;_1&quot;:0.09000851746201777,&quot;_2&quot;:38.46621666731812},{&quot;_1&quot;:0.09538990478774245,&quot;_2&quot;:19.769584714423434},{&quot;_1&quot;:0.08816836601974247,&quot;_2&quot;:41.15048969351536},{&quot;_1&quot;:0.08917637190848941,&quot;_2&quot;:34.05950188807862},{&quot;_1&quot;:0.09412460295023804,&quot;_2&quot;:23.598097950987384},{&quot;_1&quot;:0.09385282714903902,&quot;_2&quot;:28.294509672348486},{&quot;_1&quot;:0.08771507810573619,&quot;_2&quot;:33.74551913561189}],&quot;genId&quot;:&quot;7876264&quot;}\" type=\"text/x-scoped-javascript\">/*<![CDATA[*/req(['../javascripts/notebook/playground','../javascripts/notebook/magic/scatterChart'], \n      function(playground, _magicscatterChart) {\n        // data ==> data-this (in observable.js's scopedEval) ==> this in JS => { dataId, dataInit, ... }\n        // this ==> scope (in observable.js's scopedEval) ==> this.parentElement ==> div.container below (toHtml)\n\n        playground.call(data,\n                        this\n                        ,\n                        {\n    \"f\": _magicscatterChart,\n    \"o\": {\"x\":\"_1\",\"y\":\"_2\",\"width\":600,\"height\":400}\n  }\n  \n                        \n                        \n                      );\n      }\n    );/*]]>*/</script>\n    <div>\n      <span class=\"chart-total-item-count\"><p data-bind=\"text: value\"><script data-this=\"{&quot;valueId&quot;:&quot;anona5c6d0aaa21306daea9226ceab066f60&quot;,&quot;initialValue&quot;:&quot;10&quot;}\" type=\"text/x-scoped-javascript\">/*<![CDATA[*/\nreq(\n['observable', 'knockout'],\nfunction (O, ko) {\n  ko.applyBindings({\n      value: O.makeObservable(valueId, initialValue)\n    },\n    this\n  );\n});\n        /*]]>*/</script></p> entries total</span>\n      <span class=\"chart-sampling-warning\"><p data-bind=\"text: value\"><script data-this=\"{&quot;valueId&quot;:&quot;anona8cb37d65896a2f6203ac82e853c97ee&quot;,&quot;initialValue&quot;:&quot;&quot;}\" type=\"text/x-scoped-javascript\">/*<![CDATA[*/\nreq(\n['observable', 'knockout'],\nfunction (O, ko) {\n  ko.applyBindings({\n      value: O.makeObservable(valueId, initialValue)\n    },\n    this\n  );\n});\n        /*]]>*/</script></p></span>\n      <div>\n      </div>\n    </div></div>\n            </div><div class=\"tab-pane\" id=\"tab1653156906-2\">\n            <div>\n      <script data-this=\"{&quot;dataId&quot;:&quot;anon07690deb0ada3afb1e66a3bf0c667d6e&quot;,&quot;dataInit&quot;:[{&quot;_1&quot;:0.09252013710709693,&quot;_2&quot;:34.91238405713518},{&quot;_1&quot;:0.09189052491446877,&quot;_2&quot;:25.66234010032008},{&quot;_1&quot;:0.08932045125224079,&quot;_2&quot;:30.157801039112815},{&quot;_1&quot;:0.09000851746201777,&quot;_2&quot;:38.46621666731812},{&quot;_1&quot;:0.09538990478774245,&quot;_2&quot;:19.769584714423434},{&quot;_1&quot;:0.08816836601974247,&quot;_2&quot;:41.15048969351536},{&quot;_1&quot;:0.08917637190848941,&quot;_2&quot;:34.05950188807862},{&quot;_1&quot;:0.09412460295023804,&quot;_2&quot;:23.598097950987384},{&quot;_1&quot;:0.09385282714903902,&quot;_2&quot;:28.294509672348486},{&quot;_1&quot;:0.08771507810573619,&quot;_2&quot;:33.74551913561189}],&quot;genId&quot;:&quot;300006963&quot;}\" type=\"text/x-scoped-javascript\">/*<![CDATA[*/req(['../javascripts/notebook/playground','../javascripts/notebook/magic/lineChart'], \n      function(playground, _magiclineChart) {\n        // data ==> data-this (in observable.js's scopedEval) ==> this in JS => { dataId, dataInit, ... }\n        // this ==> scope (in observable.js's scopedEval) ==> this.parentElement ==> div.container below (toHtml)\n\n        playground.call(data,\n                        this\n                        ,\n                        {\n    \"f\": _magiclineChart,\n    \"o\": {\"x\":\"_1\",\"y\":\"_2\",\"width\":600,\"height\":400}\n  }\n  \n                        \n                        \n                      );\n      }\n    );/*]]>*/</script>\n    <div>\n      <span class=\"chart-total-item-count\"><p data-bind=\"text: value\"><script data-this=\"{&quot;valueId&quot;:&quot;anon31b351c907f6937b19ab28f27ffbe262&quot;,&quot;initialValue&quot;:&quot;10&quot;}\" type=\"text/x-scoped-javascript\">/*<![CDATA[*/\nreq(\n['observable', 'knockout'],\nfunction (O, ko) {\n  ko.applyBindings({\n      value: O.makeObservable(valueId, initialValue)\n    },\n    this\n  );\n});\n        /*]]>*/</script></p> entries total</span>\n      <span class=\"chart-sampling-warning\"><p data-bind=\"text: value\"><script data-this=\"{&quot;valueId&quot;:&quot;anonc12fb77ba3366661085d228c508fd546&quot;,&quot;initialValue&quot;:&quot;&quot;}\" type=\"text/x-scoped-javascript\">/*<![CDATA[*/\nreq(\n['observable', 'knockout'],\nfunction (O, ko) {\n  ko.applyBindings({\n      value: O.makeObservable(valueId, initialValue)\n    },\n    this\n  );\n});\n        /*]]>*/</script></p></span>\n      <div>\n      </div>\n    </div></div>\n            </div><div class=\"tab-pane\" id=\"tab1653156906-3\">\n            <div>\n      <script data-this=\"{&quot;dataId&quot;:&quot;anon1023b5914fd6fafe521eb8f98423bd74&quot;,&quot;dataInit&quot;:[{&quot;_1&quot;:0.09252013710709693,&quot;_2&quot;:34.91238405713518},{&quot;_1&quot;:0.09189052491446877,&quot;_2&quot;:25.66234010032008},{&quot;_1&quot;:0.08932045125224079,&quot;_2&quot;:30.157801039112815},{&quot;_1&quot;:0.09000851746201777,&quot;_2&quot;:38.46621666731812},{&quot;_1&quot;:0.09538990478774245,&quot;_2&quot;:19.769584714423434},{&quot;_1&quot;:0.08816836601974247,&quot;_2&quot;:41.15048969351536},{&quot;_1&quot;:0.08917637190848941,&quot;_2&quot;:34.05950188807862},{&quot;_1&quot;:0.09412460295023804,&quot;_2&quot;:23.598097950987384},{&quot;_1&quot;:0.09385282714903902,&quot;_2&quot;:28.294509672348486},{&quot;_1&quot;:0.08771507810573619,&quot;_2&quot;:33.74551913561189}],&quot;genId&quot;:&quot;1942936906&quot;}\" type=\"text/x-scoped-javascript\">/*<![CDATA[*/req(['../javascripts/notebook/playground','../javascripts/notebook/magic/barChart'], \n      function(playground, _magicbarChart) {\n        // data ==> data-this (in observable.js's scopedEval) ==> this in JS => { dataId, dataInit, ... }\n        // this ==> scope (in observable.js's scopedEval) ==> this.parentElement ==> div.container below (toHtml)\n\n        playground.call(data,\n                        this\n                        ,\n                        {\n    \"f\": _magicbarChart,\n    \"o\": {\"x\":\"_1\",\"y\":\"_2\",\"width\":600,\"height\":400}\n  }\n  \n                        \n                        \n                      );\n      }\n    );/*]]>*/</script>\n    <div>\n      <span class=\"chart-total-item-count\"><p data-bind=\"text: value\"><script data-this=\"{&quot;valueId&quot;:&quot;anon5fe9f5f23b354f9e9cf6b9f1ed809fcd&quot;,&quot;initialValue&quot;:&quot;10&quot;}\" type=\"text/x-scoped-javascript\">/*<![CDATA[*/\nreq(\n['observable', 'knockout'],\nfunction (O, ko) {\n  ko.applyBindings({\n      value: O.makeObservable(valueId, initialValue)\n    },\n    this\n  );\n});\n        /*]]>*/</script></p> entries total</span>\n      <span class=\"chart-sampling-warning\"><p data-bind=\"text: value\"><script data-this=\"{&quot;valueId&quot;:&quot;anon9a08acdba95c7968ce417d3070e4e0a3&quot;,&quot;initialValue&quot;:&quot;&quot;}\" type=\"text/x-scoped-javascript\">/*<![CDATA[*/\nreq(\n['observable', 'knockout'],\nfunction (O, ko) {\n  ko.applyBindings({\n      value: O.makeObservable(valueId, initialValue)\n    },\n    this\n  );\n});\n        /*]]>*/</script></p></span>\n      <div>\n      </div>\n    </div></div>\n            </div><div class=\"tab-pane\" id=\"tab1653156906-4\">\n            <div>\n      <script data-this=\"{&quot;dataId&quot;:&quot;anonffa5dae5bc9782081c997c336d8826be&quot;,&quot;dataInit&quot;:[{&quot;_1&quot;:0.09252013710709693,&quot;_2&quot;:34.91238405713518},{&quot;_1&quot;:0.09189052491446877,&quot;_2&quot;:25.66234010032008},{&quot;_1&quot;:0.08932045125224079,&quot;_2&quot;:30.157801039112815},{&quot;_1&quot;:0.09000851746201777,&quot;_2&quot;:38.46621666731812},{&quot;_1&quot;:0.09538990478774245,&quot;_2&quot;:19.769584714423434},{&quot;_1&quot;:0.08816836601974247,&quot;_2&quot;:41.15048969351536},{&quot;_1&quot;:0.08917637190848941,&quot;_2&quot;:34.05950188807862},{&quot;_1&quot;:0.09412460295023804,&quot;_2&quot;:23.598097950987384},{&quot;_1&quot;:0.09385282714903902,&quot;_2&quot;:28.294509672348486},{&quot;_1&quot;:0.08771507810573619,&quot;_2&quot;:33.74551913561189}],&quot;genId&quot;:&quot;1416589151&quot;}\" type=\"text/x-scoped-javascript\">/*<![CDATA[*/req(['../javascripts/notebook/playground','../javascripts/notebook/magic/pivotChart'], \n      function(playground, _magicpivotChart) {\n        // data ==> data-this (in observable.js's scopedEval) ==> this in JS => { dataId, dataInit, ... }\n        // this ==> scope (in observable.js's scopedEval) ==> this.parentElement ==> div.container below (toHtml)\n\n        playground.call(data,\n                        this\n                        ,\n                        {\n    \"f\": _magicpivotChart,\n    \"o\": {\"width\":600,\"height\":400,\"derivedAttributes\":{},\"extraOptions\":{}}\n  }\n  \n                        \n                        \n                      );\n      }\n    );/*]]>*/</script>\n    <div>\n      <span class=\"chart-total-item-count\"><p data-bind=\"text: value\"><script data-this=\"{&quot;valueId&quot;:&quot;anon623d889facfab18fb45dcfa411a260d1&quot;,&quot;initialValue&quot;:&quot;10&quot;}\" type=\"text/x-scoped-javascript\">/*<![CDATA[*/\nreq(\n['observable', 'knockout'],\nfunction (O, ko) {\n  ko.applyBindings({\n      value: O.makeObservable(valueId, initialValue)\n    },\n    this\n  );\n});\n        /*]]>*/</script></p> entries total</span>\n      <span class=\"chart-sampling-warning\"><p data-bind=\"text: value\"><script data-this=\"{&quot;valueId&quot;:&quot;anone82719d8057290b9f334fe5dc662d9a3&quot;,&quot;initialValue&quot;:&quot;&quot;}\" type=\"text/x-scoped-javascript\">/*<![CDATA[*/\nreq(\n['observable', 'knockout'],\nfunction (O, ko) {\n  ko.applyBindings({\n      value: O.makeObservable(valueId, initialValue)\n    },\n    this\n  );\n});\n        /*]]>*/</script></p></span>\n      <div>\n      </div>\n    </div></div>\n            </div></div>\n      </div>\n    </div></div>"
          },
          "output_type" : "execute_result",
          "execution_count" : 8,
          "time" : "Took: 1.616s, at 2018-11-15 21:45"
        }
      ]
    },
    {
      "metadata" : {
        "id" : "9A8AE5A7B5804845840378FA0199B622"
      },
      "cell_type" : "markdown",
      "source" : "## Run one Initialization of Clusterwise"
    },
    {
      "metadata" : {
        "trusted" : true,
        "input_collapsed" : false,
        "collapsed" : false,
        "id" : "02626FA95FF049AC8B4750A03184B3FA"
      },
      "cell_type" : "code",
      "source" : [
        "val (dsPerClass, predFitted, coIntercept, coXYcoef, critReg, mapsRegCrit, classedReg) = ClusterwiseCore.plsPerDot(dataXY, h, g)"
      ],
      "outputs" : [
        {
          "name" : "stdout",
          "output_type" : "stream",
          "text" : "dsPerClass: Array[Array[(Int, (scala.collection.mutable.ArrayBuffer[Double], scala.collection.mutable.ArrayBuffer[Double], Int))]] = Array(Array((0,(ArrayBuffer(4.058845733, 6.405834969, 4.943772245, 4.191393637, 5.691694039, 6.18161279, 6.182385889, 5.982450545, 6.139507172, 7.42310638),ArrayBuffer(6.508480628, 6.009293422, 6.61563233),0)), (18,(ArrayBuffer(6.839084225, 6.216818052, 2.76972574, 4.229632153, 4.569275396, 6.247105566, 6.015677646, 5.530191233, 5.151106324, 3.778566681),ArrayBuffer(5.139201214, 4.804874604, 4.914982244),0)), (23,(ArrayBuffer(3.334824219, 3.671672823, 3.644531857, 4.028140891, 3.844837271, 5.629685303, 7.897636537, 7.574256116, 6.980974165, 6.821401985),ArrayBuffer(5.659282305, 5.839603903, 5.568601779),0)), (28,(ArrayBuffer(3.752881614, 5.593864042, 3.836..."
        },
        {
          "metadata" : { },
          "data" : {
            "text/html" : ""
          },
          "output_type" : "execute_result",
          "execution_count" : 9,
          "time" : "Took: 6.432s, at 2018-11-15 21:45"
        }
      ]
    },
    {
      "metadata" : {
        "id" : "3D58F1DB38584A34960577E6BCC1F9B8"
      },
      "cell_type" : "markdown",
      "source" : "## Run one PLS regression"
    },
    {
      "metadata" : {
        "trusted" : true,
        "input_collapsed" : false,
        "collapsed" : false,
        "id" : "A6182A530F1A4843AAD6C09B7F20119A"
      },
      "cell_type" : "code",
      "source" : [
        "val inputX = mutable.ArrayBuffer(dataXY.map{ case (id, (x, y)) => (id, x) }:_*)\n",
        "val inputY = mutable.ArrayBuffer(dataXY.map{ case (id, (x, y)) => y }:_*)\n",
        "\n",
        "PLS.runPLS[mutable.ArrayBuffer[Double]](inputX, inputY, 2)._2"
      ],
      "outputs" : [
        {
          "name" : "stdout",
          "output_type" : "stream",
          "text" : "<console>:81: error: scala.collection.mutable.ArrayBuffer[Double] takes no type parameters, expected: one\n       PLS.runPLS[mutable.ArrayBuffer[Double]](inputX, inputY, 2)._2\n                          ^\n"
        }
      ]
    }
  ],
  "nbformat" : 4
}
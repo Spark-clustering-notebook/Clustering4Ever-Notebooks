{
  "metadata" : {
    "id" : "56024ffc-7635-4422-9a66-520c90007ad0",
    "name" : "Spark K-Means C4E1",
    "user_save_timestamp" : "2018-04-04T17:17:57.904Z",
    "auto_save_timestamp" : "1970-01-01T01:00:00.000Z",
    "language_info" : {
      "name" : "scala",
      "file_extension" : "scala",
      "codemirror_mode" : "text/x-scala"
    },
    "trusted" : true,
    "sparkNotebook" : null,
    "customLocalRepo" : "${HOME}/.ivy2",
    "customRepos" : [
      "clustering4ever % default % http://dl.bintray.com/clustering4ever/C4E % maven"
    ],
    "customDeps" : [
      "com.github.haifengl:smile-scala_2.11:1.5.0",
      "org.apache.sanselan % sanselan % 0.97-incubator",
      "org.clustering4ever % clustering4ever_2.11 % 0.7.2"
    ],
    "customImports" : null,
    "customArgs" : null,
    "customSparkConf" : {
      "spark.app.name" : "Notebook",
      "spark.master" : "local[*]",
      "spark.driver.memory" : "10G"
    },
    "customVars" : null
  },
  "cells" : [
    {
      "metadata" : {
        "id" : "56E473B68DE547C884E92C173F0C2CC7"
      },
      "cell_type" : "markdown",
      "source" : "# [Clustering4Ever](https://github.com/Clustering4Ever/Clustering4Ever) on [SparkNotebook](http://spark-notebook.io/) by [LIPN](https://lipn.univ-paris13.fr/) [A3](https://lipn.univ-paris13.fr/accueil/equipe/a3/) team"
    },
    {
      "metadata" : {
        "id" : "9BE3CBFDDB324D29914085C97E53D087"
      },
      "cell_type" : "markdown",
      "source" : "# Spark _K_-Means"
    },
    {
      "metadata" : {
        "trusted" : true,
        "input_collapsed" : false,
        "collapsed" : false,
        "id" : "2723CA508CC84A868DB0D63A7DB41C03"
      },
      "cell_type" : "code",
      "source" : [
        "import smile.plot._\n",
        "import scala.io.Source\n",
        "import scala.collection.{mutable, immutable}\n",
        "import org.clustering4ever.spark.clustering.kcenters.KMeans\n",
        "import org.clustering4ever.math.distances.scalar.Euclidean\n",
        "import org.clustering4ever.spark.indexes.ExternalIndexes\n",
        "import org.clustering4ever.scala.indexes.NmiNormalizationNature._\n",
        "import org.clustering4ever.util.SparkImplicits._\n",
        "import org.clustering4ever.scala.clusterizables.EasyClusterizable\n",
        "import org.clustering4ever.scala.vectorizables.RealVector"
      ],
      "outputs" : [
        {
          "name" : "stdout",
          "output_type" : "stream",
          "text" : "import smile.plot._\nimport scala.io.Source\nimport scala.collection.{mutable, immutable}\nimport org.clustering4ever.spark.clustering.kcenters.KMeans\nimport org.clustering4ever.math.distances.scalar.Euclidean\nimport org.clustering4ever.spark.indexes.ExternalIndexes\nimport org.clustering4ever.scala.indexes.NmiNormalizationNature._\nimport org.clustering4ever.util.SparkImplicits._\nimport org.clustering4ever.scala.clusterizables.EasyClusterizable\nimport org.clustering4ever.scala.vectorizables.RealVector\n"
        },
        {
          "metadata" : { },
          "data" : {
            "text/html" : ""
          },
          "output_type" : "execute_result",
          "execution_count" : 5,
          "time" : "Took: 0.803s, at 2018-11-15 22:09"
        }
      ]
    },
    {
      "metadata" : {
        "id" : "C001456FD09A4F8697712D9D1DF3EB17"
      },
      "cell_type" : "markdown",
      "source" : "## Download dataset Aggregation"
    },
    {
      "metadata" : {
        "trusted" : true,
        "input_collapsed" : false,
        "collapsed" : false,
        "id" : "ADF3A07D58F74656A91E11A1FF13920B"
      },
      "cell_type" : "code",
      "source" : [
        ":sh wget -P /tmp/ http://www.clustering4ever.org/Datasets/Aggregation/aggregation.csv\n",
        ":sh wget -P /tmp/ http://www.clustering4ever.org/Datasets/Aggregation/labels"
      ],
      "outputs" : [
        {
          "name" : "stdout",
          "output_type" : "stream",
          "text" : "--2018-11-15 22:09:27--  http://www.clustering4ever.org/Datasets/Aggregation/aggregation.csv\nResolving www.clustering4ever.org (www.clustering4ever.org)... 62.210.16.62\nConnecting to www.clustering4ever.org (www.clustering4ever.org)|62.210.16.62|:80... connected.\nHTTP request sent, awaiting response... 200 OK\nLength: 8063 (7.9K) [text/csv]\nSaving to: ‘/tmp/aggregation.csv.6’\n\n     0K .......                                               100% 99.8M=0s\n\n2018-11-15 22:09:27 (99.8 MB/s) - ‘/tmp/aggregation.csv.6’ saved [8063/8063]\n\n:sh: Scheme missing.\n--2018-11-15 22:09:27--  http://wget/\nResolving wget (wget)... failed: Name or service not known.\nwget: unable to resolve host address ‘wget’\n--2018-11-15 22:09:27--  http://www.clustering4ever.org/Datasets/Aggregation/labels\nReusing existing connection to www.clustering4ever.org:80.\nHTTP request sent, awaiting response... 200 OK\nLength: 1576 (1.5K)\nSaving to: ‘/tmp/labels.7’\n\n     0K .                                                     100%  223M=0s\n\n2018-11-15 22:09:27 (223 MB/s) - ‘/tmp/labels.7’ saved [1576/1576]\n\nFINISHED --2018-11-15 22:09:27--\nTotal wall clock time: 0.05s\nDownloaded: 2 files, 9.4K in 0s (110 MB/s)\njava.lang.RuntimeException: Nonzero exit value: 4\n  at scala.sys.package$.error(package.scala:27)\n  at scala.sys.process.ProcessBuilderImpl$AbstractBuilder.slurp(ProcessBuilderImpl.scala:132)\n  at scala.sys.process.ProcessBuilderImpl$AbstractBuilder.$bang$bang(ProcessBuilderImpl.scala:103)\n  ... 63 elided\n"
        }
      ]
    },
    {
      "metadata" : {
        "id" : "4BEB170294834C8B92F180754CF0F42F"
      },
      "cell_type" : "markdown",
      "source" : "## Import data as Array[Array[Double]]"
    },
    {
      "metadata" : {
        "trusted" : true,
        "input_collapsed" : false,
        "collapsed" : false,
        "id" : "063B66723A63401CBC2F0A23BE2C2E18"
      },
      "cell_type" : "code",
      "source" : [
        "val datasetSize = 500000\n",
        "val dim = 4\n",
        "val useAggregationDS = true\n",
        "val dp = 16\n",
        "\n",
        "val path = \"/tmp/aggregation.csv\"\n",
        "val rawRdd = if( useAggregationDS ) sc.textFile(path, dp).map( x => mutable.ArrayBuffer(x.split(\",\").map(_.toDouble):_*)) else sc.parallelize(List.fill(datasetSize)(mutable.ArrayBuffer.fill(dim)(scala.util.Random.nextDouble)), dp)\n",
        "val rdd = rawRdd.zipWithIndex.map{ case (v, id) => new EasyClusterizable(id, new RealVector(v)) }.cache\n",
        "val labelsPath = \"/tmp/labels\"\n"
      ],
      "outputs" : [
        {
          "name" : "stdout",
          "output_type" : "stream",
          "text" : "datasetSize: Int = 500000\ndim: Int = 4\nuseAggregationDS: Boolean = true\ndp: Int = 16\npath: String = /tmp/aggregation.csv\nrawRdd: org.apache.spark.rdd.RDD[scala.collection.mutable.ArrayBuffer[Double]] = MapPartitionsRDD[2] at map at <console>:89\nrdd: org.apache.spark.rdd.RDD[org.clustering4ever.scala.clusterizables.EasyClusterizable[Long,scala.collection.mutable.ArrayBuffer[Double],scala.collection.mutable.ArrayBuffer[Double]]] = MapPartitionsRDD[4] at map at <console>:90\nlabelsPath: String = /tmp/labels\nres8: Long = 788\n"
        },
        {
          "metadata" : { },
          "data" : {
            "text/html" : "788"
          },
          "output_type" : "execute_result",
          "execution_count" : 6,
          "time" : "Took: 3.315s, at 2018-11-15 22:09"
        }
      ]
    },
    {
      "metadata" : {
        "id" : "DB906BE4458347E98566175F44A41B25"
      },
      "cell_type" : "markdown",
      "source" : "## Parameters "
    },
    {
      "metadata" : {
        "trusted" : true,
        "input_collapsed" : false,
        "collapsed" : false,
        "id" : "7B7F65B92A1849639D25B8260E8FC13D"
      },
      "cell_type" : "code",
      "source" : [
        "val k = 7\n",
        "val iterMax = 40\n",
        "val epsilon = 0.5\n",
        "val metric = new Euclidean[mutable.ArrayBuffer[Double]](false)"
      ],
      "outputs" : [
        {
          "name" : "stdout",
          "output_type" : "stream",
          "text" : "k: Int = 7\niterMax: Int = 40\nepsilon: Double = 0.5\nmetric: org.clustering4ever.math.distances.scalar.Euclidean[scala.collection.mutable.ArrayBuffer[Double]] = Euclidean distance without root applied\n"
        },
        {
          "metadata" : { },
          "data" : {
            "text/html" : ""
          },
          "output_type" : "execute_result",
          "execution_count" : 9,
          "time" : "Took: 0.683s, at 2018-11-15 22:10"
        }
      ]
    },
    {
      "metadata" : {
        "id" : "729707FBED094F888A80AB7B8B14E536"
      },
      "cell_type" : "markdown",
      "source" : "## Run and measure the algorithm time, you can give a well prepared RDD[Clusterizable] or use implicit conversion and gives RDD[Seq[Double]]"
    },
    {
      "metadata" : {
        "trusted" : true,
        "input_collapsed" : false,
        "collapsed" : false,
        "id" : "419AEFF8FD5643459DDC4497EDE74809"
      },
      "cell_type" : "code",
      "source" : [
        "val t1 = System.currentTimeMillis\n",
        "val model = KMeans.run(rdd, k, epsilon, iterMax, metric)\n",
        "val t2 = System.currentTimeMillis\n",
        "(t2 - t1) / 1000D"
      ],
      "outputs" : [
        {
          "name" : "stdout",
          "output_type" : "stream",
          "text" : "t1: Long = 1542316217366\nmodel: org.clustering4ever.spark.clustering.kcenters.KCentersModel[Long,scala.collection.mutable.ArrayBuffer[Double],scala.collection.mutable.ArrayBuffer[Double],org.clustering4ever.scala.clusterizables.EasyClusterizable[Long,scala.collection.mutable.ArrayBuffer[Double],scala.collection.mutable.ArrayBuffer[Double]],org.clustering4ever.math.distances.scalar.Euclidean[scala.collection.mutable.ArrayBuffer[Double]]] = org.clustering4ever.spark.clustering.kcenters.KCentersModel@72ab5867\nt2: Long = 1542316218528\nres15: Double = 1.162\n"
        },
        {
          "metadata" : { },
          "data" : {
            "text/html" : "1.162"
          },
          "output_type" : "execute_result",
          "execution_count" : 11,
          "time" : "Took: 2.107s, at 2018-11-15 22:10"
        }
      ]
    },
    {
      "metadata" : {
        "trusted" : true,
        "input_collapsed" : false,
        "collapsed" : false,
        "id" : "B36132A2EEDD4BB291A81E5374189B1F"
      },
      "cell_type" : "code",
      "source" : [
        "val clusterized = model.centerPredict(rdd)\n",
        "val lclusterized = clusterized.collect"
      ],
      "outputs" : [
        {
          "name" : "stdout",
          "output_type" : "stream",
          "text" : "clusterized: org.apache.spark.rdd.RDD[org.clustering4ever.scala.clusterizables.EasyClusterizable[Long,scala.collection.mutable.ArrayBuffer[Double],scala.collection.mutable.ArrayBuffer[Double]]] = MapPartitionsRDD[36] at map at K-Centers-Model.scala:38\nlclusterized: Array[org.clustering4ever.scala.clusterizables.EasyClusterizable[Long,scala.collection.mutable.ArrayBuffer[Double],scala.collection.mutable.ArrayBuffer[Double]]] = Array(EasyClusterizable(0,RealVector(ArrayBuffer(15.55, 28.65)),Some(0)), EasyClusterizable(1,RealVector(ArrayBuffer(14.9, 27.55)),Some(3)), EasyClusterizable(2,RealVector(ArrayBuffer(14.45, 28.35)),Some(3)), EasyClusterizable(3,RealVector(ArrayBuffer(14.15, 28.8)),Some(3)), EasyClusterizable(4,RealVector(ArrayBuffer(13.75, 28.05)),Some(3)), EasyClusterizable(5,Rea..."
        },
        {
          "metadata" : { },
          "data" : {
            "text/html" : ""
          },
          "output_type" : "execute_result",
          "execution_count" : 12,
          "time" : "Took: 0.782s, at 2018-11-15 22:10"
        }
      ]
    },
    {
      "metadata" : {
        "id" : "8764D707B7724F10B29F4ECBE2D0EF35"
      },
      "cell_type" : "markdown",
      "source" : "## Plot clustering results"
    },
    {
      "metadata" : {
        "trusted" : true,
        "input_collapsed" : false,
        "collapsed" : false,
        "id" : "73DF7E1E10D9470F873F415BBC32A860"
      },
      "cell_type" : "code",
      "source" : [
        "val rawData = lclusterized.map(_.vector.toArray).toArray\n",
        "val labels = lclusterized.map( cz => cz.clusterID.get ).toArray\n",
        "\n",
        "plot(rawData, labels, '*', Palette.COLORS)"
      ],
      "outputs" : [
        {
          "name" : "stdout",
          "output_type" : "stream",
          "text" : "rawData: Array[Array[Double]] = Array(Array(15.55, 28.65), Array(14.9, 27.55), Array(14.45, 28.35), Array(14.15, 28.8), Array(13.75, 28.05), Array(13.35, 28.45), Array(13.0, 29.15), Array(13.45, 27.5), Array(13.6, 26.5), Array(12.8, 27.35), Array(12.4, 27.85), Array(12.3, 28.4), Array(12.2, 28.65), Array(13.4, 25.1), Array(12.95, 25.95), Array(12.9, 26.5), Array(11.85, 27.0), Array(11.35, 28.0), Array(11.15, 28.7), Array(11.25, 27.4), Array(10.75, 27.7), Array(10.5, 28.35), Array(9.65, 28.45), Array(10.25, 27.25), Array(10.75, 26.55), Array(11.7, 26.35), Array(11.6, 25.9), Array(11.9, 25.05), Array(12.6, 24.05), Array(11.9, 24.5), Array(11.1, 25.2), Array(10.55, 25.15), Array(10.05, 25.95), Array(9.35, 26.6), Array(9.3, 27.25), Array(9.2, 27.8), Array(7.5, 28.25), Array(8.55, 27.45), Ar..."
        },
        {
          "metadata" : { },
          "data" : {
            "text/html" : "Window(javax.swing.JFrame[frame0,460,37,1000x1000,layout=java.awt.BorderLayout,title=Smile Plot 1,resizable,normal,defaultCloseOperation=DISPOSE_ON_CLOSE,rootPane=javax.swing.JRootPane[,0,37,1000x963,layout=javax.swing.JRootPane$RootLayout,alignmentX=0.0,alignmentY=0.0,border=,flags=16777675,maximumSize=,minimumSize=,preferredSize=],rootPaneCheckingEnabled=true],smile.plot.PlotCanvas[,0,0,1000x963,layout=java.awt.BorderLayout,alignmentX=0.0,alignmentY=0.0,border=,flags=11,maximumSize=,minimumSize=,preferredSize=])"
          },
          "output_type" : "execute_result",
          "execution_count" : 13,
          "time" : "Took: 1.381s, at 2018-11-15 22:10"
        }
      ]
    },
    {
      "metadata" : {
        "id" : "F7CC2B90766B4298A8E0007A402C4F12"
      },
      "cell_type" : "markdown",
      "source" : "## Inspect performance metrics"
    },
    {
      "metadata" : {
        "trusted" : true,
        "input_collapsed" : false,
        "collapsed" : false,
        "id" : "92D74F442AAC47098E81E395C0EA2EAF"
      },
      "cell_type" : "code",
      "source" : [
        "val trueLabels = sc.parallelize(Source.fromFile(labelsPath).getLines.map(_.toInt).toSeq)\n",
        "\n",
        "val (_, trueLabelsFrom0) = ExternalIndexes.prepareLabels(trueLabels)\n",
        "\n",
        "val predicts = clusterized.map(_.clusterID.get)\n",
        "\n",
        "val trueAndPredictRDD = sc.parallelize(trueLabelsFrom0.collect.zip(predicts.collect).map{ case(gt, pred) => (gt.toInt, pred) })\n",
        "\n",
        "val nmi = ExternalIndexes.nmi(sc, trueAndPredictRDD, SQRT)\n",
        "\n",
        "nmi"
      ],
      "outputs" : [ ]
    }
  ],
  "nbformat" : 4
}
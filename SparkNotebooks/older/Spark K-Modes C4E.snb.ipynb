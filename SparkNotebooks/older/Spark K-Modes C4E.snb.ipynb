{
  "metadata" : {
    "id" : "e123fd08-093d-4c26-991b-4d5f491e2a67",
    "name" : "Spark K-Modes C4E.snb.ipynb",
    "user_save_timestamp" : "2018-04-04T17:20:40.850Z",
    "auto_save_timestamp" : "1970-01-01T01:00:00.000Z",
    "language_info" : {
      "name" : "scala",
      "file_extension" : "scala",
      "codemirror_mode" : "text/x-scala"
    },
    "trusted" : true,
    "sparkNotebook" : null,
    "customLocalRepo" : null,
    "customRepos" : [
      "clustering4ever % default % http://dl.bintray.com/clustering4ever/Clustering4Ever % maven"
    ],
    "customDeps" : [
      "com.github.haifengl:smile-scala_2.11:1.5.0",
      "org.apache.sanselan % sanselan % 0.97-incubator",
      "clustering4ever % clustering4ever_2.11 % 0.2.3"
    ],
    "customImports" : null,
    "customArgs" : null,
    "customSparkConf" : null,
    "customVars" : null
  },
  "cells" : [
    {
      "metadata" : {
        "id" : "3CAC3B9175DE474687B67A89A9819E0D"
      },
      "cell_type" : "markdown",
      "source" : "# [Clustering4Ever](https://github.com/Clustering4Ever/Clustering4Ever) on [SparkNotebook](http://spark-notebook.io/) by [LIPN](https://lipn.univ-paris13.fr/) [A3](https://lipn.univ-paris13.fr/accueil/equipe/a3/) team"
    },
    {
      "metadata" : {
        "id" : "9BE3CBFDDB324D29914085C97E53D087"
      },
      "cell_type" : "markdown",
      "source" : "# Spark _K_-Modes"
    },
    {
      "metadata" : {
        "trusted" : true,
        "input_collapsed" : false,
        "collapsed" : false,
        "id" : "2723CA508CC84A868DB0D63A7DB41C03"
      },
      "cell_type" : "code",
      "source" : [
        "import smile.plot._\n",
        "import clustering4ever.spark.clustering.kmodes.KModes\n",
        "import clustering4ever.math.distances.binary.{Hamming, Vari, MeanMahanttan}\n",
        "import _root_.scala.io.Source\n",
        "import smile.feature.Standardizer\n",
        "import smile.data.NumericAttribute\n",
        "import smile.data.Attribute.Type._\n",
        "import smile.plot._\n",
        "import smile.projection._\n",
        "import smile.manifold._\n",
        "import java.awt.Color"
      ],
      "outputs" : [
        {
          "name" : "stdout",
          "output_type" : "stream",
          "text" : "import smile.plot._\nimport clustering4ever.spark.clustering.kmodes.KModes\nimport clustering4ever.math.distances.binary.{Hamming, Vari, MeanMahanttan}\nimport _root_.scala.io.Source\nimport smile.feature.Standardizer\nimport smile.data.NumericAttribute\nimport smile.data.Attribute.Type._\nimport smile.plot._\nimport smile.projection._\nimport smile.manifold._\nimport java.awt.Color\n"
        },
        {
          "metadata" : { },
          "data" : {
            "text/html" : ""
          },
          "output_type" : "execute_result",
          "execution_count" : 1,
          "time" : "Took: 0.516s, at 2018-04-04 17:16"
        }
      ]
    },
    {
      "metadata" : {
        "id" : "4BEB170294834C8B92F180754CF0F42F"
      },
      "cell_type" : "markdown",
      "source" : "## Import data as Array[(Int, Array[Int])]"
    },
    {
      "metadata" : {
        "trusted" : true,
        "input_collapsed" : false,
        "collapsed" : false,
        "id" : "063B66723A63401CBC2F0A23BE2C2E18"
      },
      "cell_type" : "code",
      "source" : [
        "val path = \"/home/KyBe/tmpDS/digits.csv\"\n",
        "//val sdata = Source.fromFile(path).getLines.map(_.split(\",\").map(_.toInt))\n",
        "//val sdata = Seq.fill(10000)(Array.fill(10)(scala.util.Random.nextInt(2)))\n",
        "//val data = sc.parallelize(sdata).zipWithIndex.map(_.swap).cache\n",
        "val data = sc.textFile(path).map(_.split(\",\").map(_.toInt)).zipWithIndex.map(_.swap).cache"
      ],
      "outputs" : [
        {
          "name" : "stdout",
          "output_type" : "stream",
          "text" : "path: String = /home/KyBe/tmpDS/digits.csv\ndata: org.apache.spark.rdd.RDD[(Long, Array[Int])] = MapPartitionsRDD[4] at map at <console>:77\n"
        },
        {
          "metadata" : { },
          "data" : {
            "text/html" : ""
          },
          "output_type" : "execute_result",
          "execution_count" : 2,
          "time" : "Took: 1.793s, at 2018-04-04 17:02"
        }
      ]
    },
    {
      "metadata" : {
        "id" : "DB906BE4458347E98566175F44A41B25"
      },
      "cell_type" : "markdown",
      "source" : "## Parameters "
    },
    {
      "metadata" : {
        "trusted" : true,
        "input_collapsed" : false,
        "collapsed" : false,
        "id" : "7B7F65B92A1849639D25B8260E8FC13D"
      },
      "cell_type" : "code",
      "source" : [
        "val k = 6\n",
        "val iterMax = 100\n",
        "val epsilon = 0.001\n",
        "val metric1 = new Hamming\n",
        "val metric2 = new MeanMahanttan\n",
        "val metric3 = new Vari"
      ],
      "outputs" : [
        {
          "name" : "stdout",
          "output_type" : "stream",
          "text" : "k: Int = 6\niterMax: Int = 100\nepsilon: Double = 0.001\nmetric1: clustering4ever.math.distances.binary.Hamming = clustering4ever.math.distances.binary.Hamming@6ce84c97\nmetric2: clustering4ever.math.distances.binary.MeanMahanttan = clustering4ever.math.distances.binary.MeanMahanttan@7e3035e1\nmetric3: clustering4ever.math.distances.binary.Vari = clustering4ever.math.distances.binary.Vari@3beb0628\n"
        },
        {
          "metadata" : { },
          "data" : {
            "text/html" : ""
          },
          "output_type" : "execute_result",
          "execution_count" : 3,
          "time" : "Took: 0.618s, at 2018-04-04 17:02"
        }
      ]
    },
    {
      "metadata" : {
        "id" : "351DECE0EB4B4DAE8395D89284DABB26"
      },
      "cell_type" : "markdown",
      "source" : "## Run the algorithm"
    },
    {
      "metadata" : {
        "trusted" : true,
        "input_collapsed" : false,
        "collapsed" : false,
        "id" : "294D274BC10945F999626F121BA54C2F"
      },
      "cell_type" : "code",
      "source" : [
        "val model = KModes.run(sc, data, k, epsilon, iterMax, metric1)\n",
        "val clusterized = data.map{ case (id, v) => (model.predict(v), (id, v)) }"
      ],
      "outputs" : [
        {
          "name" : "stdout",
          "output_type" : "stream",
          "text" : "model: clustering4ever.spark.clustering.kmodes.KModesModel = clustering4ever.spark.clustering.kmodes.KModesModel@2c709947\nclusterized: org.apache.spark.rdd.RDD[(model.ClusterID, (Long, Array[Int]))] = MapPartitionsRDD[8] at map at <console>:82\n"
        },
        {
          "metadata" : { },
          "data" : {
            "text/html" : ""
          },
          "output_type" : "execute_result",
          "execution_count" : 4,
          "time" : "Took: 1.009s, at 2018-04-04 17:02"
        }
      ]
    },
    {
      "metadata" : {
        "id" : "F7F16BEF8CF748BE858A24122B403EBC"
      },
      "cell_type" : "markdown",
      "source" : "### Transform binary data into a grid to visualize it. Here a 15 x 16 grid for digits data"
    },
    {
      "metadata" : {
        "trusted" : true,
        "input_collapsed" : false,
        "collapsed" : false,
        "id" : "EE876614A2384B8393EC77254083AB3C"
      },
      "cell_type" : "code",
      "source" : [
        "val centroids = model.centroids.toArray\n",
        "val formatedCentroids = centroids.map(_._2).map(_.map(_.toDouble).grouped(15).toArray)"
      ],
      "outputs" : [
        {
          "name" : "stdout",
          "output_type" : "stream",
          "text" : "centroids: Array[(Int, Array[Int])] = Array((2,Array(0, 0, 0, 1, 1, 1, 1, 1, 1, 1, 1, 0, 0, 0, 0, 0, 0, 1, 1, 1, 1, 1, 1, 1, 1, 1, 1, 0, 0, 0, 0, 0, 1, 1, 1, 1, 1, 1, 1, 1, 1, 0, 0, 0, 0, 0, 0, 1, 1, 1, 1, 1, 1, 1, 1, 1, 0, 0, 0, 0, 0, 0, 1, 1, 1, 1, 1, 1, 1, 1, 0, 0, 0, 0, 0, 0, 0, 1, 1, 1, 1, 1, 1, 1, 0, 0, 0, 0, 0, 0, 0, 0, 1, 1, 1, 1, 1, 1, 1, 1, 1, 1, 0, 0, 0, 0, 0, 1, 1, 1, 1, 1, 1, 1, 1, 1, 1, 1, 0, 0, 0, 0, 1, 1, 1, 1, 1, 1, 0, 1, 1, 1, 1, 1, 0, 0, 1, 1, 1, 1, 1, 1, 0, 1, 1, 1, 1, 1, 1, 0, 0, 1, 1, 1, 1, 1, 1, 0, 0, 1, 1, 1, 1, 1, 1, 0, 1, 1, 1, 1, 1, 1, 0, 0, 1, 1, 1, 1, 1, 1, 0, 1, 1, 1, 1, 1, 1, 0, 0, 1, 1, 1, 1, 1, 1, 0, 1, 1, 1, 1, 1, 1, 1, 1, 1, 1, 1, 1, 1, 1, 0, 0, 1, 1, 1, 1, 1, 1, 1, 1, 1, 1, 1, 1, 0, 0, 0, 0, 0, 1, 1, 1, 1, 1, 1, 1, 1, 1, 0, 0)), (5,Array(0, 0, 0, 1, 1..."
        },
        {
          "metadata" : { },
          "data" : {
            "text/html" : ""
          },
          "output_type" : "execute_result",
          "execution_count" : 5,
          "time" : "Took: 0.772s, at 2018-04-04 17:02"
        }
      ]
    },
    {
      "metadata" : {
        "id" : "6E6F1BB7E04B4C73BE6336C34BB693C6"
      },
      "cell_type" : "markdown",
      "source" : "### Visualize centroids"
    },
    {
      "metadata" : {
        "trusted" : true,
        "input_collapsed" : false,
        "collapsed" : false,
        "id" : "79CFD9EDA1714B4ABE79B7007B66A4C1"
      },
      "cell_type" : "code",
      "source" : [
        "formatedCentroids.foreach( centroid => hexmap(centroid, Array(Palette.BLACK, Palette.LIGHT_GRAY)))"
      ],
      "outputs" : [
        {
          "metadata" : { },
          "data" : {
            "text/html" : ""
          },
          "output_type" : "execute_result",
          "execution_count" : 12,
          "time" : "Took: 1.937s, at 2018-04-04 17:00"
        }
      ]
    },
    {
      "metadata" : {
        "id" : "5FB4231121E048879C05E600EECC0455"
      },
      "cell_type" : "markdown",
      "source" : "## Standardize data and apply a PCA on it"
    },
    {
      "metadata" : {
        "trusted" : true,
        "input_collapsed" : false,
        "collapsed" : false,
        "id" : "87ABBCFC6A53484D92BEC1017706CC6C"
      },
      "cell_type" : "code",
      "source" : [
        "val types = for( i <- (0 until data.first._2.size).toArray ) yield(new NumericAttribute(i.toString))\n",
        "\n",
        "val standardize = new Standardizer\n",
        "\n",
        "val dataAsDouble = data.map(_._2.map(_.toDouble)).collect\n",
        "\n",
        "standardize.learn(types.toArray, dataAsDouble)\n",
        "\n",
        "val standardizedData = clusterized.map{ case (clusterID, (id, v)) => (clusterID, (id, (v.map(_.toDouble)))) }.collect"
      ],
      "outputs" : [
        {
          "name" : "stdout",
          "output_type" : "stream",
          "text" : "types: Array[smile.data.NumericAttribute] = Array(NUMERIC[0], NUMERIC[1], NUMERIC[2], NUMERIC[3], NUMERIC[4], NUMERIC[5], NUMERIC[6], NUMERIC[7], NUMERIC[8], NUMERIC[9], NUMERIC[10], NUMERIC[11], NUMERIC[12], NUMERIC[13], NUMERIC[14], NUMERIC[15], NUMERIC[16], NUMERIC[17], NUMERIC[18], NUMERIC[19], NUMERIC[20], NUMERIC[21], NUMERIC[22], NUMERIC[23], NUMERIC[24], NUMERIC[25], NUMERIC[26], NUMERIC[27], NUMERIC[28], NUMERIC[29], NUMERIC[30], NUMERIC[31], NUMERIC[32], NUMERIC[33], NUMERIC[34], NUMERIC[35], NUMERIC[36], NUMERIC[37], NUMERIC[38], NUMERIC[39], NUMERIC[40], NUMERIC[41], NUMERIC[42], NUMERIC[43], NUMERIC[44], NUMERIC[45], NUMERIC[46], NUMERIC[47], NUMERIC[48], NUMERIC[49], NUMERIC[50], NUMERIC[51], NUMERIC[52], NUMERIC[53], NUMERIC[54], NUMERIC[55], NUMERIC[56], NUMERIC[57], NUM..."
        },
        {
          "metadata" : { },
          "data" : {
            "text/html" : ""
          },
          "output_type" : "execute_result",
          "execution_count" : 15,
          "time" : "Took: 1.127s, at 2018-04-04 17:09"
        }
      ]
    },
    {
      "metadata" : {
        "trusted" : true,
        "input_collapsed" : false,
        "collapsed" : false,
        "id" : "1551F38AC46C49BEACB0C8183F96B534"
      },
      "cell_type" : "code",
      "source" : [
        "val readyToPca = standardizedData.map(_._2._2)\n",
        "\n",
        "val pcaModel = pca(readyToPca)\n",
        "\n",
        "pcaModel.setProjection(3)\n",
        "\n",
        "val pcaizedData = standardizedData.map{ case (clusterID, (id, v)) => (clusterID, pcaModel.project(v)) }"
      ],
      "outputs" : [
        {
          "name" : "stdout",
          "output_type" : "stream",
          "text" : "readyToPca: Array[Array[Double]] = Array(Array(0.0, 1.0, 1.0, 1.0, 1.0, 1.0, 1.0, 1.0, 1.0, 1.0, 1.0, 1.0, 0.0, 0.0, 0.0, 1.0, 1.0, 1.0, 1.0, 1.0, 1.0, 1.0, 1.0, 1.0, 1.0, 1.0, 1.0, 1.0, 0.0, 0.0, 1.0, 1.0, 1.0, 1.0, 1.0, 0.0, 0.0, 0.0, 1.0, 1.0, 1.0, 1.0, 1.0, 1.0, 0.0, 1.0, 1.0, 1.0, 1.0, 0.0, 0.0, 0.0, 0.0, 0.0, 1.0, 1.0, 1.0, 1.0, 1.0, 0.0, 1.0, 1.0, 1.0, 1.0, 0.0, 0.0, 0.0, 0.0, 0.0, 1.0, 1.0, 1.0, 1.0, 1.0, 0.0, 1.0, 1.0, 1.0, 1.0, 0.0, 0.0, 0.0, 0.0, 0.0, 1.0, 1.0, 1.0, 1.0, 1.0, 0.0, 1.0, 1.0, 1.0, 1.0, 0.0, 0.0, 0.0, 0.0, 0.0, 0.0, 1.0, 1.0, 1.0, 1.0, 1.0, 1.0, 1.0, 1.0, 1.0, 0.0, 0.0, 0.0, 0.0, 0.0, 0.0, 1.0, 1.0, 1.0, 1.0, 1.0, 1.0, 1.0, 1.0, 1.0, 0.0, 0.0, 0.0, 0.0, 0.0, 0.0, 1.0, 1.0, 1.0, 1.0, 1.0, 1.0, 1.0, 1.0, 1.0, 0.0, 0.0, 0.0, 0.0, 0.0, 0.0, 1.0, 1.0, 1.0, 1.0, 1.0, ..."
        },
        {
          "metadata" : { },
          "data" : {
            "text/html" : ""
          },
          "output_type" : "execute_result",
          "execution_count" : 22,
          "time" : "Took: 2.507s, at 2018-04-04 17:09"
        }
      ]
    },
    {
      "metadata" : {
        "trusted" : true,
        "input_collapsed" : false,
        "collapsed" : false,
        "id" : "987A419A038B436089A4B6AC986C06DB"
      },
      "cell_type" : "code",
      "source" : [
        "val pureData = pcaizedData.map(_._2)\n",
        "val labels = pcaizedData.map(_._1)\n",
        "val pcizedCentroids = centroids.map{ case (_, centroid) =>  (Int.MaxValue, pcaModel.project(standardize.transform(centroid.map(_.toDouble)))) }"
      ],
      "outputs" : [
        {
          "name" : "stdout",
          "output_type" : "stream",
          "text" : "pureData: Array[Array[Double]] = Array(Array(0.8581670566923537, 4.491446006457944, 1.3492074366872653), Array(0.3812071416844144, 3.2096660209117225, 0.030868635243768594), Array(2.040289609732212, 3.281287381274164, 0.5883708950800963), Array(0.6009966267867405, 3.1202592201212456, 1.039892669726206), Array(2.188639715061769, 3.017027197526276, 0.15057016702522696), Array(0.33402248854777394, -1.0384366071886362, -0.9078965691317149), Array(2.0582940809526598, 4.122284171373905, 1.9544274974383697), Array(1.5809368270391944, 3.7739566822936377, 1.2726865712592756), Array(1.8419422874284388, 4.275665793297685, 1.8050967388646428), Array(1.2835788275741016, 3.3133122571689695, 1.8535870004193489), Array(1.563510656399107, 3.079184695975594, 0.9349226924825416), Array(2.0847380739786225,..."
        },
        {
          "metadata" : { },
          "data" : {
            "text/html" : ""
          },
          "output_type" : "execute_result",
          "execution_count" : 23,
          "time" : "Took: 0.679s, at 2018-04-04 17:09"
        }
      ]
    },
    {
      "metadata" : {
        "trusted" : true,
        "input_collapsed" : false,
        "collapsed" : false,
        "id" : "117C4FC2BA424743878E20C608B5872C"
      },
      "cell_type" : "code",
      "source" : [
        "plot(pureData, labels, '.', Palette.COLORS)"
      ],
      "outputs" : [
        {
          "name" : "stdout",
          "output_type" : "stream",
          "text" : "res28: smile.plot.Window = Window(javax.swing.JFrame[frame0,460,53,1000x1000,invalid,layout=java.awt.BorderLayout,title=Smile Plot 1,resizable,normal,defaultCloseOperation=DISPOSE_ON_CLOSE,rootPane=javax.swing.JRootPane[,5,25,990x970,invalid,layout=javax.swing.JRootPane$RootLayout,alignmentX=0.0,alignmentY=0.0,border=,flags=16777673,maximumSize=,minimumSize=,preferredSize=],rootPaneCheckingEnabled=true],smile.plot.PlotCanvas[,0,0,0x0,invalid,layout=java.awt.BorderLayout,alignmentX=0.0,alignmentY=0.0,border=,flags=9,maximumSize=,minimumSize=,preferredSize=])\n"
        },
        {
          "metadata" : { },
          "data" : {
            "text/html" : "Window(javax.swing.JFrame[frame0,460,53,1000x1000,layout=java.awt.BorderLayout,title=Smile Plot 1,resizable,normal,defaultCloseOperation=DISPOSE_ON_CLOSE,rootPane=javax.swing.JRootPane[,0,34,1000x966,layout=javax.swing.JRootPane$RootLayout,alignmentX=0.0,alignmentY=0.0,border=,flags=16777675,maximumSize=,minimumSize=,preferredSize=],rootPaneCheckingEnabled=true],smile.plot.PlotCanvas[,0,0,1000x966,layout=java.awt.BorderLayout,alignmentX=0.0,alignmentY=0.0,border=,flags=11,maximumSize=,minimumSize=,preferredSize=])"
          },
          "output_type" : "execute_result",
          "execution_count" : 24,
          "time" : "Took: 0.965s, at 2018-04-04 17:09"
        }
      ]
    },
    {
      "metadata" : {
        "trusted" : true,
        "input_collapsed" : false,
        "collapsed" : false,
        "id" : "B61EC8F6DF2847DB9FE2E9A25A332B4E"
      },
      "cell_type" : "code",
      "source" : [
        "val window = plot(pureData, labels, '.', Palette.COLORS)\n",
        "window.canvas.points(\"centroid\", pcizedCentroids.map(_._2), 'Q', Color.BLACK)"
      ],
      "outputs" : [
        {
          "name" : "stdout",
          "output_type" : "stream",
          "text" : "window: smile.plot.Window = Window(javax.swing.JFrame[frame1,460,53,1000x1000,invalid,layout=java.awt.BorderLayout,title=Smile Plot 2,resizable,normal,defaultCloseOperation=DISPOSE_ON_CLOSE,rootPane=javax.swing.JRootPane[,5,25,990x970,invalid,layout=javax.swing.JRootPane$RootLayout,alignmentX=0.0,alignmentY=0.0,border=,flags=16777673,maximumSize=,minimumSize=,preferredSize=],rootPaneCheckingEnabled=true],smile.plot.PlotCanvas[,0,0,0x0,invalid,layout=java.awt.BorderLayout,alignmentX=0.0,alignmentY=0.0,border=,flags=9,maximumSize=,minimumSize=,preferredSize=])\nres30: smile.plot.ScatterPlot = smile.plot.ScatterPlot@ea47185\n"
        },
        {
          "metadata" : { },
          "data" : {
            "text/html" : "smile.plot.ScatterPlot@ea47185"
          },
          "output_type" : "execute_result",
          "execution_count" : 25,
          "time" : "Took: 0.654s, at 2018-04-04 17:09"
        }
      ]
    },
    {
      "metadata" : {
        "id" : "7E19EBF38D9F412480A0E45111BC786A"
      },
      "cell_type" : "markdown",
      "source" : "## Visualization with t-sne"
    },
    {
      "metadata" : {
        "trusted" : true,
        "input_collapsed" : false,
        "collapsed" : true,
        "id" : "71DD474AA9FE4A6E855408F00C7A5E30"
      },
      "cell_type" : "code",
      "source" : [
        "val sne = tsne(readyToPca, 3)"
      ],
      "outputs" : [ ]
    },
    {
      "metadata" : {
        "trusted" : true,
        "input_collapsed" : false,
        "collapsed" : false,
        "id" : "E00F4547377747518A223FE6F3CFE183"
      },
      "cell_type" : "code",
      "source" : [
        "plot(sne.getCoordinates, labels, '.', Palette.COLORS)"
      ],
      "outputs" : [
        {
          "metadata" : { },
          "data" : {
            "text/html" : ""
          },
          "output_type" : "execute_result",
          "execution_count" : 27,
          "time" : "Took: 0.608s, at 2018-04-04 17:10"
        }
      ]
    },
    {
      "metadata" : {
        "id" : "CA1B20602A874440B4D3536447A956C8"
      },
      "cell_type" : "markdown",
      "source" : "## Include centroids"
    },
    {
      "metadata" : {
        "trusted" : true,
        "input_collapsed" : false,
        "collapsed" : false,
        "id" : "E276AB525CA24EEC8AE9088E56D2EBDD"
      },
      "cell_type" : "code",
      "source" : [
        "val readyTsneCentroids = centroids.map{ case (_, centroid) =>  (Int.MaxValue, standardize.transform(centroid.map(_.toDouble))) }\n",
        "\n",
        "val readyToTsne = readyToPca ++ readyTsneCentroids.map(_._2)"
      ],
      "outputs" : [
        {
          "name" : "stdout",
          "output_type" : "stream",
          "text" : "readyTsneCentroids: Array[(Int, Array[Double])] = Array((2147483647,Array(-0.4691973206300246, -0.724769091822159, -1.0047612781803712, 0.7311989859280826, 0.5818236344745712, 0.4731577041265375, 0.4050460242033411, 0.3752743814604061, 0.3838921816267829, 0.45004943939012954, 0.5440847285433487, -1.4007074931910235, -1.0209698667667724, -0.7473734209867955, -0.4818399603409751, -0.6701124716326963, -1.0595190793022655, 0.6889766255545046, 0.5386811852615968, 0.4419949476766309, 0.36391836974993397, 0.30373202063736837, 0.2784733628071156, 0.3076416819747157, 0.3577255499568549, 0.42899948314926056, 0.5502546049722432, -1.419712279393056, -1.0353755795234765, -0.6646353033940223, -0.7056049015940564, -1.1534022844770293, 0.6622910964242819, 0.5502546049722432, 0.4620448429462271, 0.45004..."
        },
        {
          "metadata" : { },
          "data" : {
            "text/html" : ""
          },
          "output_type" : "execute_result",
          "execution_count" : 29,
          "time" : "Took: 0.752s, at 2018-04-04 17:10"
        }
      ]
    },
    {
      "metadata" : {
        "trusted" : true,
        "input_collapsed" : false,
        "collapsed" : false,
        "id" : "FEC4892943E647EA80F93FE8A07B1B00"
      },
      "cell_type" : "code",
      "source" : [
        "val sne2 = tsne(readyToTsne, 2)"
      ],
      "outputs" : [
        {
          "name" : "stdout",
          "output_type" : "stream",
          "text" : "sne2: smile.manifold.TSNE = smile.manifold.TSNE@444302c7\n"
        },
        {
          "metadata" : { },
          "data" : {
            "text/html" : ""
          },
          "output_type" : "execute_result",
          "execution_count" : 30,
          "time" : "Took: 33.750s, at 2018-04-04 17:11"
        }
      ]
    },
    {
      "metadata" : {
        "trusted" : true,
        "input_collapsed" : false,
        "collapsed" : false,
        "id" : "B03CC2EE137D469BAEB75D5CD65B3E80"
      },
      "cell_type" : "code",
      "source" : [
        "val dataTsne = sne2.getCoordinates.take(standardizedData.size)\n",
        "val dataCentroids = sne2.getCoordinates.takeRight(10)\n",
        "\n",
        "val window = plot(dataTsne, labels, '.', Palette.COLORS)\n",
        "window.canvas.points(\"centroid\", dataCentroids, 'Q', Color.BLACK)"
      ],
      "outputs" : [
        {
          "name" : "stdout",
          "output_type" : "stream",
          "text" : "dataTsne: Array[Array[Double]] = Array(Array(18.12326109744452, 0.7448072405429023), Array(19.069433560915773, 4.330583829177866), Array(15.700965442159209, -2.0326731448993938), Array(14.739782902497167, 0.2552924471014526), Array(18.121068186767076, 4.9937268020856616), Array(-0.665269310861698, -5.532738482182505), Array(20.145151948533076, -0.7301585122130199), Array(18.539876913104802, 3.0017123437022737), Array(20.37164391415772, 0.5737364078924903), Array(17.116773666784393, -2.05760023561448), Array(19.468421227545768, -1.6753187209386633), Array(14.472768554725572, -0.6622259459328816), Array(14.737311863567891, 2.4925196651917325), Array(15.146246268648131, 0.697766823116357), Array(16.732671571610727, 3.3390819380191616), Array(16.715194899273694, 4.835664728371025), Array(13..."
        },
        {
          "metadata" : { },
          "data" : {
            "text/html" : "smile.plot.ScatterPlot@7f276690"
          },
          "output_type" : "execute_result",
          "execution_count" : 32,
          "time" : "Took: 0.628s, at 2018-04-04 17:12"
        }
      ]
    }
  ],
  "nbformat" : 4
}
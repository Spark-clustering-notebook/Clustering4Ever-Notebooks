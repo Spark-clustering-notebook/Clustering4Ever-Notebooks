{
  "metadata" : {
    "id" : "e67e149e-3ce1-451b-af46-240a4d35604b",
    "name" : "Spark SOM C4E",
    "user_save_timestamp" : "2018-04-03T20:41:25.758Z",
    "auto_save_timestamp" : "19719700-11-11T11:00:00.000Z",
    "language_info" : {
      "name" : "scala",
      "file_extension" : "scala",
      "codemirror_mode" : "text/x-scala"
    },
    "trusted" : true,
    "sparkNotebook" : null,
    "customLocalRepo" : "${HOME}/.ivy2",
    "customRepos" : [
      "clustering4ever % default % http://dl.bintray.com/clustering4ever/Clustering4Ever % maven"
    ],
    "customDeps" : [
      "com.github.haifengl:smile-scala_2.11:1.5.0",
      "clustering4ever % clustering4ever_2.11 % 0.4.0"
    ],
    "customImports" : null,
    "customArgs" : null,
    "customSparkConf" : {
      "spark.driver.allowMultipleContexts" : "true"
    },
    "customVars" : null
  },
  "cells" : [
    {
      "metadata" : {
        "id" : "0D8EF1B1DE3E4BBC8A1C1FECCF152112"
      },
      "cell_type" : "markdown",
      "source" : "# [Clustering4Ever](https://github.com/Clustering4Ever/Clustering4Ever) on [SparkNotebook](http://spark-notebook.io/) by [LIPN](https://lipn.univ-paris13.fr/) [A3](https://lipn.univ-paris13.fr/accueil/equipe/a3/) team"
    },
    {
      "metadata" : {
        "id" : "4A4CD3E56F754B0AB5CEC6848C3FC25E"
      },
      "cell_type" : "markdown",
      "source" : "#Spark SOM"
    },
    {
      "metadata" : {
        "trusted" : true,
        "input_collapsed" : false,
        "collapsed" : false,
        "id" : "46969225BA5945708CB974A7C27E5DBC"
      },
      "cell_type" : "code",
      "source" : [
        "import clustering4ever.spark.clustering.mtm.RunSom\n",
        "import smile.plot._\n",
        "import _root_.scala.io.Source\n",
        "import smile.plot._\n",
        "import java.awt.Color\n",
        "import smile.projection._\n",
        "import smile.manifold._\n",
        "import java.awt.Color\n",
        "import org.apache.spark.SparkConf\n",
        "import org.apache.spark.SparkContext\n",
        "import org.apache.spark.SparkContext._\n",
        "import org.apache.spark.rdd.RDD\n",
        "import org.apache.spark.mllib.linalg.DenseVector\n",
        "import java.util.concurrent.TimeUnit._\n",
        "import org.apache.spark.rdd.RDD\n",
        "import _root_.scala.concurrent.duration.{FiniteDuration, Duration}\n",
        "import org.apache.spark.util"
      ],
      "outputs" : [
        {
          "name" : "stdout",
          "output_type" : "stream",
          "text" : "import clustering4ever.spark.clustering.mtm.RunSom\nimport smile.plot._\nimport _root_.scala.io.Source\nimport smile.plot._\nimport java.awt.Color\nimport smile.projection._\nimport smile.manifold._\nimport java.awt.Color\nimport org.apache.spark.SparkConf\nimport org.apache.spark.SparkContext\nimport org.apache.spark.SparkContext._\nimport org.apache.spark.rdd.RDD\nimport org.apache.spark.mllib.linalg.DenseVector\nimport java.util.concurrent.TimeUnit._\nimport org.apache.spark.rdd.RDD\nimport _root_.scala.concurrent.duration.{FiniteDuration, Duration}\nimport org.apache.spark.util\n"
        },
        {
          "metadata" : { },
          "data" : {
            "text/html" : ""
          },
          "output_type" : "execute_result",
          "execution_count" : 1,
          "time" : "Took: 2.900s, at 2018-06-21 01:05"
        }
      ]
    },
    {
      "metadata" : {
        "id" : "57A9106F09814B4AAB0960CFC026AB69"
      },
      "cell_type" : "markdown",
      "source" : "##Import Data"
    },
    {
      "metadata" : {
        "trusted" : true,
        "input_collapsed" : false,
        "collapsed" : false,
        "id" : "5F2409F58FA943C8B03804B3C7BFA9B1"
      },
      "cell_type" : "code",
      "source" : [
        ":sh wget -P /tmp/ http://www.clustering4ever.org/Datasets/Aggregation/aggregation.csv\n",
        ":sh wget -P /tmp/ http://www.clustering4ever.org/Datasets/Aggregation/labels"
      ],
      "outputs" : [
        {
          "name" : "stdout",
          "output_type" : "stream",
          "text" : "--2018-06-21 01:05:34--  http://www.clustering4ever.org/Datasets/Aggregation/aggregation.csv\nResolving www.clustering4ever.org... 62.210.16.62\nConnecting to www.clustering4ever.org|62.210.16.62|:80... connected.\nHTTP request sent, awaiting response... 200 OK\nLength: 8063 (7.9K) [text/csv]\nSaving to: ‘/tmp/aggregation.csv.1’\n\n     0K .......                                               100% 6.47M=0.001s\n\n2018-06-21 01:05:34 (6.47 MB/s) - ‘/tmp/aggregation.csv.1’ saved [8063/8063]\n\n:sh: Scheme missing.\n--2018-06-21 01:05:34--  http://wget/\nResolving wget... failed: nodename nor servname provided, or not known.\nwget: unable to resolve host address ‘wget’\n--2018-06-21 01:05:34--  http://www.clustering4ever.org/Datasets/Aggregation/labels\nReusing existing connection to www.clustering4ever.org:80.\nHTTP request sent, awaiting response... 200 OK\nLength: 1576 (1.5K)\nSaving to: ‘/tmp/labels’\n\n     0K .                                                     100% 15.8M=0s\n\n2018-06-21 01:05:35 (15.8 MB/s) - ‘/tmp/labels’ saved [1576/1576]\n\nFINISHED --2018-06-21 01:05:35--\nTotal wall clock time: 0.8s\nDownloaded: 2 files, 9.4K in 0.001s (7.16 MB/s)\njava.lang.RuntimeException: Nonzero exit value: 4\n  at scala.sys.package$.error(package.scala:27)\n  at scala.sys.process.ProcessBuilderImpl$AbstractBuilder.slurp(ProcessBuilderImpl.scala:132)\n  at scala.sys.process.ProcessBuilderImpl$AbstractBuilder.$bang$bang(ProcessBuilderImpl.scala:103)\n  ... 75 elided\n"
        }
      ]
    },
    {
      "metadata" : {
        "trusted" : true,
        "input_collapsed" : false,
        "collapsed" : false,
        "id" : "59F55BF6720246B68A7D3E16EC982194"
      },
      "cell_type" : "code",
      "source" : [
        "val intputFile= \"/tmp/aggregation.csv\"\n",
        "val outputDir = \"/tmp/mapres\"\n",
        "val sep = \",\"\n",
        "val inputs = sc.textFile(intputFile).map(x => new DenseVector(x.split(sep).map(_.toDouble))).cache() \n",
        "\n",
        "//.map(x => new DenseVector(x.split(sep).map(_.toDouble))).cache() "
      ],
      "outputs" : [
        {
          "name" : "stdout",
          "output_type" : "stream",
          "text" : "intputFile: String = /tmp/aggregation.csv\noutputDir: String = /tmp/mapres\nsep: String = ,\ninputs: org.apache.spark.rdd.RDD[org.apache.spark.mllib.linalg.DenseVector] = MapPartitionsRDD[2] at map at <console>:99\n"
        },
        {
          "metadata" : { },
          "data" : {
            "text/html" : ""
          },
          "output_type" : "execute_result",
          "execution_count" : 3,
          "time" : "Took: 2.325s, at 2018-06-21 01:05"
        }
      ]
    },
    {
      "metadata" : {
        "id" : "7A0A272694C4486A9FEE81084D540B29"
      },
      "cell_type" : "markdown",
      "source" : "## Parameters "
    },
    {
      "metadata" : {
        "trusted" : true,
        "input_collapsed" : false,
        "collapsed" : false,
        "id" : "DB316B84F9C244FC8A5C379C62B6E1F9"
      },
      "cell_type" : "code",
      "source" : [
        "val nbRealVars : Int = 2\n",
        "val nbRow = 15\n",
        "val nbCol = 15\n",
        "val tmin: Double = 0.9\n",
        "val tmax: Double = 8\n",
        "val convergeDist: Double = -0.001\n",
        "val maxIter: Int = 50\n",
        "val initMap: Int = 0\n",
        "val initMapFile : String = \"\""
      ],
      "outputs" : [
        {
          "name" : "stdout",
          "output_type" : "stream",
          "text" : "nbRealVars: Int = 2\nnbRow: Int = 15\nnbCol: Int = 15\ntmin: Double = 0.9\ntmax: Double = 8.0\nconvergeDist: Double = -0.001\nmaxIter: Int = 50\ninitMap: Int = 0\ninitMapFile: String = \"\"\n"
        },
        {
          "metadata" : { },
          "data" : {
            "text/html" : ""
          },
          "output_type" : "execute_result",
          "execution_count" : 4,
          "time" : "Took: 1.795s, at 2018-06-21 01:05"
        }
      ]
    },
    {
      "metadata" : {
        "id" : "29727A0D2AC049AF98AD8985779833DD"
      },
      "cell_type" : "markdown",
      "source" : "## Run the algorithm"
    },
    {
      "metadata" : {
        "trusted" : true,
        "input_collapsed" : false,
        "collapsed" : false,
        "id" : "4619E4C59C7E41AAA549D3EA0B9A20FF"
      },
      "cell_type" : "code",
      "source" : [
        "val obj = RunSom.exec(\n",
        "    inputs,\n",
        "    outputDir,\n",
        "    nbRow, \n",
        "    nbCol, \n",
        "    tmin, \n",
        "    tmax,\n",
        "    convergeDist,\n",
        "    maxIter,\n",
        "    sep,\n",
        "    initMap,\n",
        "    initMapFile,\n",
        "    nbRealVars,\n",
        "    false)\n",
        "val model = obj._1\n",
        "val time = obj._2"
      ],
      "outputs" : [
        {
          "name" : "stdout",
          "output_type" : "stream",
          "text" : "nbRow: 788\nle model apres training est : (0, 0) -> [29.6,25.5]\n(0, 1) -> [30.65,26.0]\n(0, 2) -> [11.35,28.0]\n(0, 3) -> [18.75,22.95]\n(0, 4) -> [12.35,8.45]\n(0, 5) -> [18.45,22.8]\n(0, 6) -> [30.95,9.85]\n(0, 7) -> [32.25,12.25]\n(0, 8) -> [18.15,1.95]\n(0, 9) -> [12.15,5.4]\n(0, 10) -> [15.8,12.6]\n(0, 11) -> [7.4,21.55]\n(0, 12) -> [11.1,8.45]\n(0, 13) -> [23.05,3.35]\n(0, 14) -> [5.35,19.05]\n(1, 0) -> [20.7,5.15]\n(1, 1) -> [17.3,4.8]\n(1, 2) -> [18.7,5.75]\n(1, 3) -> [30.95,22.65]\n(1, 4) -> [13.9,17.1]\n(1, 5) -> [14.6,3.05]\n(1, 6) -> [12.6,24.05]\n(1, 7) -> [24.3,22.6]\n(1, 8) -> [34.05,12.55]\n(1, 9) -> [21.1,4.05]\n(1, 10) -> [17.05,9.0]\n(1, 11) -> [15.95,2.8]\n(1, 12) -> [31.0,17.5]\n(1, 13) -> [15.15,7.1]\n(1, 14) -> [14.85,9.55]\n(2, 0) -> [23.5,5.05]\n(2, 1) -> [17.65,5.7]\n(2, 2) -> [8.5,27.05]\n(2, 3) -> [6.55,21.15]\n(2, 4) -> [6.8,13.2]\n(2, 5) -> [18.3,12.0]\n(2, 6) -> [8.15,4.0]\n(2, 7) -> [8.3,19.45]\n(2, 8) -> [6.1,22.6]\n(2, 9) -> [9.3,27.25]\n(2, 10) -> [19.45,2.65]\n(2, 11) -> [8.55,27.45]\n(2, 12) -> [20.05,6.35]\n(2, 13) -> [23.95,6.9]\n(2, 14) -> [14.25,8.7]\n(3, 0) -> [9.95,22.65]\n(3, 1) -> [23.95,9.8]\n(3, 2) -> [33.85,20.0]\n(3, 3) -> [31.95,19.1]\n(3, 4) -> [35.75,21.3]\n(3, 5) -> [9.35,20.6]\n(3, 6) -> [19.8,7.5]\n(3, 7) -> [32.8,19.15]\n(3, 8) -> [12.85,10.65]\n(3, 9) -> [5.15,3.45]\n(3, 10) -> [34.95,12.75]\n(3, 11) -> [15.0,3.4]\n(3, 12) -> [15.5,6.75]\n(3, 13) -> [35.25,26.0]\n(3, 14) -> [6.6,25.75]\n(4, 0) -> [9.65,24.7]\n(4, 1) -> [10.1,6.75]\n(4, 2) -> [35.85,23.25]\n(4, 3) -> [30.7,9.15]\n(4, 4) -> [6.55,24.3]\n(4, 5) -> [15.5,17.15]\n(4, 6) -> [33.05,26.5]\n(4, 7) -> [7.15,17.9]\n(4, 8) -> [34.7,11.75]\n(4, 9) -> [8.6,20.9]\n(4, 10) -> [33.65,27.0]\n(4, 11) -> [21.45,21.45]\n(4, 12) -> [8.8,11.4]\n(4, 13) -> [35.5,9.1]\n(4, 14) -> [8.95,22.2]\n(5, 0) -> [18.6,10.0]\n(5, 1) -> [17.05,5.1]\n(5, 2) -> [34.8,10.1]\n(5, 3) -> [31.55,22.2]\n(5, 4) -> [7.35,18.2]\n(5, 5) -> [20.05,6.95]\n(5, 6) -> [21.6,24.65]\n(5, 7) -> [33.25,14.7]\n(5, 8) -> [5.4,25.25]\n(5, 9) -> [16.05,8.95]\n(5, 10) -> [33.25,18.95]\n(5, 11) -> [31.95,8.15]\n(5, 12) -> [22.55,23.5]\n(5, 13) -> [21.15,22.95]\n(5, 14) -> [11.9,24.5]\n(6, 0) -> [21.2,9.25]\n(6, 1) -> [21.0,22.6]\n(6, 2) -> [4.85,2.9]\n(6, 3) -> [20.55,5.75]\n(6, 4) -> [11.4,18.3]\n(6, 5) -> [34.1,27.35]\n(6, 6) -> [7.25,3.55]\n(6, 7) -> [21.45,3.75]\n(6, 8) -> [12.65,3.7]\n(6, 9) -> [5.4,2.7]\n(6, 10) -> [7.0,26.5]\n(6, 11) -> [32.15,26.65]\n(6, 12) -> [30.7,11.65]\n(6, 13) -> [34.6,7.25]\n(6, 14) -> [17.9,5.4]\n(7, 0) -> [14.8,11.35]\n(7, 1) -> [10.55,25.15]\n(7, 2) -> [16.6,6.85]\n(7, 3) -> [19.9,2.05]\n(7, 4) -> [33.0,15.15]\n(7, 5) -> [18.8,8.1]\n(7, 6) -> [32.6,18.35]\n(7, 7) -> [34.25,17.35]\n(7, 8) -> [9.35,17.7]\n(7, 9) -> [13.0,29.15]\n(7, 10) -> [21.75,8.2]\n(7, 11) -> [21.4,22.3]\n(7, 12) -> [11.9,25.05]\n(7, 13) -> [14.45,28.35]\n(7, 14) -> [8.55,12.1]\n(8, 0) -> [31.55,21.6]\n(8, 1) -> [16.35,10.85]\n(8, 2) -> [6.4,21.95]\n(8, 3) -> [12.05,23.4]\n(8, 4) -> [30.25,20.45]\n(8, 5) -> [18.65,7.3]\n(8, 6) -> [13.55,3.15]\n(8, 7) -> [34.2,4.2]\n(8, 8) -> [19.8,21.85]\n(8, 9) -> [17.25,9.6]\n(8, 10) -> [21.8,11.15]\n(8, 11) -> [20.75,6.55]\n(8, 12) -> [7.4,24.25]\n(8, 13) -> [31.45,26.95]\n(8, 14) -> [31.25,26.05]\n(9, 0) -> [33.7,7.05]\n(9, 1) -> [15.45,9.7]\n(9, 2) -> [21.85,6.2]\n(9, 3) -> [8.75,18.8]\n(9, 4) -> [31.65,11.05]\n(9, 5) -> [15.85,12.0]\n(9, 6) -> [5.9,2.4]\n(9, 7) -> [32.6,16.15]\n(9, 8) -> [22.75,7.05]\n(9, 9) -> [15.1,10.25]\n(9, 10) -> [32.0,3.8]\n(9, 11) -> [19.1,4.55]\n(9, 12) -> [6.35,1.95]\n(9, 13) -> [34.9,4.65]\n(9, 14) -> [32.35,25.95]\n(10, 0) -> [20.65,23.85]\n(10, 1) -> [12.15,16.4]\n(10, 2) -> [10.35,7.7]\n(10, 3) -> [14.1,10.05]\n(10, 4) -> [12.9,26.5]\n(10, 5) -> [32.95,25.5]\n(10, 6) -> [12.4,5.8]\n(10, 7) -> [32.65,11.7]\n(10, 8) -> [11.55,10.2]\n(10, 9) -> [31.5,18.55]\n(10, 10) -> [5.3,20.4]\n(10, 11) -> [11.6,25.9]\n(10, 12) -> [23.05,10.9]\n(10, 13) -> [31.2,12.0]\n(10, 14) -> [19.0,11.65]\n(11, 0) -> [15.35,5.5]\n(11, 1) -> [14.3,6.95]\n(11, 2) -> [7.85,4.5]\n(11, 3) -> [16.25,11.7]\n(11, 4) -> [6.9,11.5]\n(11, 5) -> [23.65,6.5]\n(11, 6) -> [16.25,10.2]\n(11, 7) -> [19.75,23.65]\n(11, 8) -> [20.5,21.85]\n(11, 9) -> [35.55,10.75]\n(11, 10) -> [19.2,12.25]\n(11, 11) -> [11.35,5.55]\n(11, 12) -> [33.65,21.9]\n(11, 13) -> [24.85,7.95]\n(11, 14) -> [20.6,11.15]\n(12, 0) -> [32.45,8.8]\n(12, 1) -> [8.65,21.3]\n(12, 2) -> [34.15,19.3]\n(12, 3) -> [20.7,3.45]\n(12, 4) -> [9.7,12.1]\n(12, 5) -> [13.15,9.8]\n(12, 6) -> [13.75,28.05]\n(12, 7) -> [18.05,2.45]\n(12, 8) -> [29.5,8.15]\n(12, 9) -> [33.65,4.6]\n(12, 10) -> [30.55,18.8]\n(12, 11) -> [34.05,3.5]\n(12, 12) -> [32.55,22.05]\n(12, 13) -> [15.55,11.15]\n(12, 14) -> [29.35,22.55]\n(13, 0) -> [35.45,24.1]\n(13, 1) -> [11.35,6.9]\n(13, 2) -> [35.65,9.85]\n(13, 3) -> [24.8,6.4]\n(13, 4) -> [34.2,21.75]\n(13, 5) -> [23.0,5.75]\n(13, 6) -> [30.45,18.05]\n(13, 7) -> [23.4,23.8]\n(13, 8) -> [7.0,12.35]\n(13, 9) -> [7.05,12.45]\n(13, 10) -> [23.9,23.45]\n(13, 11) -> [12.45,9.3]\n(13, 12) -> [11.15,22.05]\n(13, 13) -> [32.65,17.05]\n(13, 14) -> [13.45,27.5]\n(14, 0) -> [24.15,4.55]\n(14, 1) -> [18.65,4.2]\n(14, 2) -> [35.95,19.85]\n(14, 3) -> [30.4,11.1]\n(14, 4) -> [5.7,3.45]\n(14, 5) -> [14.5,6.55]\n(14, 6) -> [32.35,6.45]\n(14, 7) -> [23.5,7.85]\n(14, 8) -> [35.2,11.75]\n(14, 9) -> [34.6,4.05]\n(14, 10) -> [30.7,20.05]\n(14, 11) -> [31.15,17.9]\n(14, 12) -> [6.2,3.0]\n(14, 13) -> [22.3,22.8]\n(14, 14) -> [20.65,24.3]\nWrite Prototypes...\nWrite Cardinalities...\nWrite Affiliate...\nWrite Maps...\nWrite successfully...\nobj: (clustering4ever.spark.clustering.mtm.global.AbstractModel, String) =\n((0, 0) -> [29.6,25.5]\n(0, 1) -> [30.65,26.0]\n(0, 2) -> [11.35,28.0]\n(0, 3) -> [18.75,22.95]\n(0, 4) -> [12.35,8.45]\n(0, 5) -> [18.45,22.8]\n(0, 6) -> [30.95,9.85]\n(0, 7) -> [32.25,12.25]\n(0, 8) -> [18.15,1.95]\n(0, 9) -> [12.15,5.4]\n(0, 10) -> [15.8,12.6]\n(0, 11) -> [7.4,21.55]\n(0, 12) -> [11.1,8.45]\n(0, 13) -> [23.05,3.35]\n(0, 14) -> [5.35,19.05]\n(1, 0) -> [20.7,5.15]\n(1, 1) -> [17.3,4.8]\n(1, 2) -> [18.7,5.75]\n(1, 3) -> [30.95,22.65]\n(1, 4) -> [13.9,17.1]\n(1, 5) -> [14.6,3.05]\n(1, 6) -> [12.6,24.05]\n(1, 7) -> [24.3,22.6]\n(1, 8) -> [34.05,12.55]\n(1, 9) -> [21.1,4.05]\n(1, 10) -> [17.05,9.0]\n(1, 11) -> [15.95,2.8]\n(1, 12) -> [31.0,17.5]\n(1, 13) -> [15.15,7.1]\n(1, 14) -> [14.85,9.55]\n(2, 0) -> [23.5,5.05]\n(2, 1) -> [1..."
        },
        {
          "metadata" : { },
          "data" : {
            "text/html" : ""
          },
          "output_type" : "execute_result",
          "execution_count" : 5,
          "time" : "Took: 9.147s, at 2018-06-21 01:06"
        }
      ]
    },
    {
      "metadata" : {
        "id" : "3B36728E866A4D348C034D4D955097BA"
      },
      "cell_type" : "markdown",
      "source" : "#Read the output file to plot the grid"
    },
    {
      "metadata" : {
        "trusted" : true,
        "input_collapsed" : false,
        "collapsed" : false,
        "id" : "C03CFC37E43A4E6890B05004BB52CF1C"
      },
      "cell_type" : "code",
      "source" : [
        "//val intputFile = sourceRep \n",
        "val sep = \",\"\n",
        "//val inputs = sc.textFile(intputFile).map(x => new DenseVector(x.split(sep).map(_.toDouble))).cache() \n",
        "val time1=time\n",
        "val dataset = inputs.map(_.toArray).zipWithIndex().map(t => (t._2.toInt,t._1))\n",
        "\n",
        "\n",
        "val path2: String = outputDir + \"/EXP-\" + time1\n",
        "val dataProtos = sc.textFile(path2 + \"/maps\")\n",
        "\n",
        "\n",
        "val headerProtos = dataProtos.first() \n",
        "val protos = dataProtos.filter(row => row != headerProtos).map(_.split(\",\").map(_.toDouble))\n",
        "val protosWithIndex = protos.map(t => (-1,t))\n"
      ],
      "outputs" : [
        {
          "name" : "stdout",
          "output_type" : "stream",
          "text" : "sep: String = ,\ntime1: String = 2018-06-21-01-05-59\ndataset: org.apache.spark.rdd.RDD[(Int, Array[Double])] = MapPartitionsRDD[65] at map at <console>:118\npath2: String = /tmp/mapres/EXP-2018-06-21-01-05-59\ndataProtos: org.apache.spark.rdd.RDD[String] = /tmp/mapres/EXP-2018-06-21-01-05-59/maps MapPartitionsRDD[67] at textFile at <console>:122\nheaderProtos: String = # mapDim=2 mapSize={15,15} pointDim=2 pointRealDim=2 mapMin={0,0}\nprotos: org.apache.spark.rdd.RDD[Array[Double]] = MapPartitionsRDD[69] at map at <console>:126\nprotosWithIndex: org.apache.spark.rdd.RDD[(Int, Array[Double])] = MapPartitionsRDD[70] at map at <console>:127\n"
        },
        {
          "metadata" : { },
          "data" : {
            "text/html" : ""
          },
          "output_type" : "execute_result",
          "execution_count" : 7,
          "time" : "Took: 1.987s, at 2018-06-21 01:06"
        }
      ]
    },
    {
      "metadata" : {
        "id" : "0EB6EFD9F5AA4E71819704C2D554A06B"
      },
      "cell_type" : "markdown",
      "source" : "###Map the dataset and prototypes (if they have more than 2D use PCA or other mapping methods)"
    },
    {
      "metadata" : {
        "trusted" : true,
        "input_collapsed" : false,
        "collapsed" : false,
        "presentation" : {
          "tabs_state" : "{\n  \"tab_id\": \"#tab59617686-0\"\n}",
          "pivot_chart_state" : "{\n  \"hiddenAttributes\": [],\n  \"menuLimit\": 200,\n  \"cols\": [],\n  \"rows\": [],\n  \"vals\": [],\n  \"exclusions\": {},\n  \"inclusions\": {},\n  \"unusedAttrsVertical\": 85,\n  \"autoSortUnusedAttrs\": false,\n  \"inclusionsInfo\": {},\n  \"aggregatorName\": \"Count\",\n  \"rendererName\": \"Table\"\n}"
        },
        "id" : "E3BCDB97EC67486F99FC968040EF9D0F"
      },
      "cell_type" : "code",
      "source" : [
        "val xpca = dataset.sortByKey().values.collect\n",
        "val ppca =protosWithIndex.sortByKey().values.collect"
      ],
      "outputs" : [
        {
          "name" : "stdout",
          "output_type" : "stream",
          "text" : "xpca: Array[Array[Double]] = Array(Array(15.55, 28.65), Array(14.9, 27.55), Array(14.45, 28.35), Array(14.15, 28.8), Array(13.75, 28.05), Array(13.35, 28.45), Array(13.0, 29.15), Array(13.45, 27.5), Array(13.6, 26.5), Array(12.8, 27.35), Array(12.4, 27.85), Array(12.3, 28.4), Array(12.2, 28.65), Array(13.4, 25.1), Array(12.95, 25.95), Array(12.9, 26.5), Array(11.85, 27.0), Array(11.35, 28.0), Array(11.15, 28.7), Array(11.25, 27.4), Array(10.75, 27.7), Array(10.5, 28.35), Array(9.65, 28.45), Array(10.25, 27.25), Array(10.75, 26.55), Array(11.7, 26.35), Array(11.6, 25.9), Array(11.9, 25.05), Array(12.6, 24.05), Array(11.9, 24.5), Array(11.1, 25.2), Array(10.55, 25.15), Array(10.05, 25.95), Array(9.35, 26.6), Array(9.3, 27.25), Array(9.2, 27.8), Array(7.5, 28.25), Array(8.55, 27.45), Array..."
        },
        {
          "metadata" : { },
          "data" : {
            "text/html" : ""
          },
          "output_type" : "execute_result",
          "execution_count" : 8,
          "time" : "Took: 1.924s, at 2018-06-21 01:06"
        }
      ]
    },
    {
      "metadata" : {
        "trusted" : true,
        "input_collapsed" : false,
        "collapsed" : false,
        "id" : "1E5753E9AC6D478CB0DD359CD2E62EED"
      },
      "cell_type" : "code",
      "source" : [
        "// C'est pour la visualisation de la grille  \n",
        "val neuronsppca = (0 until nbRow).map { i => ppca.slice(nbCol*i, nbCol*(i+1)) }.toArray"
      ],
      "outputs" : [
        {
          "name" : "stdout",
          "output_type" : "stream",
          "text" : "neuronsppca: Array[Array[Array[Double]]] = Array(Array(Array(6.274365014167947, 3.437762724786497), Array(6.669015579133231, 4.316961791603469), Array(7.485556011574871, 5.9199489647003976), Array(7.807720615614543, 8.947882411602855), Array(7.303346333405392, 10.712664457538587), Array(6.906314799676503, 11.801379890305789), Array(7.146513493554906, 12.978918428571907), Array(7.227697288997416, 15.417119716473438), Array(7.185253306272679, 18.257662749746835), Array(6.545694530289985, 19.868798452662556), Array(6.110291396492515, 21.28915870751024), Array(5.7649141975380855, 22.695538476793406), Array(5.9041533833229405, 24.095810691738812), Array(6.5125426467711405, 25.28122665430849), Array(7.382808635153823, 26.385101196988156)), Array(Array(7.481035384908409, 3.5725001263518976), A..."
        },
        {
          "metadata" : { },
          "data" : {
            "text/html" : ""
          },
          "output_type" : "execute_result",
          "execution_count" : 9,
          "time" : "Took: 1.979s, at 2018-06-21 01:06"
        }
      ]
    },
    {
      "metadata" : {
        "id" : "5B1739D43E2441F597C34C49BCEF30E8"
      },
      "cell_type" : "markdown",
      "source" : "##Visualisation "
    },
    {
      "metadata" : {
        "trusted" : true,
        "input_collapsed" : false,
        "collapsed" : false,
        "id" : "4256132212FF402A83DCF5BEE18938B5"
      },
      "cell_type" : "code",
      "source" : [
        "// plot the map\n",
        "val map=grid(neuronsppca)"
      ],
      "outputs" : [
        {
          "name" : "stdout",
          "output_type" : "stream",
          "text" : "map: smile.plot.Window = Window(javax.swing.JFrame[frame0,220,23,1000x847,invalid,layout=java.awt.BorderLayout,title=Smile Plot 1,resizable,normal,defaultCloseOperation=DISPOSE_ON_CLOSE,rootPane=javax.swing.JRootPane[,0,22,1000x978,invalid,layout=javax.swing.JRootPane$RootLayout,alignmentX=0.0,alignmentY=0.0,border=,flags=16777673,maximumSize=,minimumSize=,preferredSize=],rootPaneCheckingEnabled=true],smile.plot.PlotCanvas[,0,0,0x0,invalid,layout=java.awt.BorderLayout,alignmentX=0.0,alignmentY=0.0,border=,flags=9,maximumSize=,minimumSize=,preferredSize=])\n"
        },
        {
          "metadata" : { },
          "data" : {
            "text/html" : ""
          },
          "output_type" : "execute_result",
          "execution_count" : 10,
          "time" : "Took: 2.714s, at 2018-06-21 01:06"
        }
      ]
    },
    {
      "metadata" : {
        "trusted" : true,
        "input_collapsed" : false,
        "collapsed" : false,
        "id" : "440BD2341AFB47C59456EBD5A051CB28"
      },
      "cell_type" : "code",
      "source" : [
        "// add data with original label \n",
        "val label = sc.textFile(\"/tmp/labels\").map(_.toInt).collect \n",
        "\n",
        "val canvas  =smile.plot.ScatterPlot.plot(xpca, label, '*', Palette.COLORS)\n",
        "\n",
        "canvas.grid(neuronsppca)\n",
        "canvas.setTitle(\"Map with original labels \")\n",
        "\n",
        "map.frame.getContentPane().add(canvas)\n",
        "map.frame.setVisible(true)"
      ],
      "outputs" : [
        {
          "name" : "stdout",
          "output_type" : "stream",
          "text" : "label: Array[Int] = Array(2, 2, 2, 2, 2, 2, 2, 2, 2, 2, 2, 2, 2, 2, 2, 2, 2, 2, 2, 2, 2, 2, 2, 2, 2, 2, 2, 2, 2, 2, 2, 2, 2, 2, 2, 2, 2, 2, 2, 2, 2, 2, 2, 2, 2, 2, 2, 2, 2, 2, 2, 2, 2, 2, 2, 2, 2, 2, 2, 2, 2, 2, 2, 2, 2, 2, 2, 2, 2, 2, 2, 2, 2, 2, 2, 2, 2, 2, 2, 2, 2, 2, 2, 2, 2, 2, 2, 2, 2, 2, 2, 2, 2, 2, 2, 2, 2, 2, 2, 2, 2, 2, 2, 2, 2, 2, 2, 2, 2, 2, 2, 2, 2, 2, 2, 2, 2, 2, 2, 2, 2, 2, 2, 2, 2, 2, 2, 2, 2, 2, 2, 2, 2, 2, 2, 2, 2, 2, 2, 2, 2, 2, 2, 2, 2, 2, 2, 2, 2, 2, 2, 2, 2, 2, 2, 2, 2, 2, 2, 2, 2, 2, 2, 2, 2, 2, 2, 2, 2, 2, 7, 7, 7, 7, 7, 7, 7, 7, 7, 7, 7, 7, 7, 7, 7, 7, 7, 7, 7, 7, 7, 7, 7, 7, 7, 7, 7, 7, 7, 7, 7, 7, 7, 7, 4, 4, 4, 4, 4, 4, 4, 4, 4, 4, 4, 4, 4, 4, 4, 4, 4, 4, 4, 4, 4, 4, 4, 4, 4, 4, 4, 4, 4, 4, 4, 4, 4, 4, 4, 4, 4, 4, 4, 4, 4, 4, 4, 4, 4, 4, 4, 4, 4, 4, 4, 4, 4, ..."
        },
        {
          "metadata" : { },
          "data" : {
            "text/html" : ""
          },
          "output_type" : "execute_result",
          "execution_count" : 11,
          "time" : "Took: 2.664s, at 2018-06-21 01:07"
        }
      ]
    },
    {
      "metadata" : {
        "trusted" : true,
        "input_collapsed" : false,
        "collapsed" : true,
        "id" : "36D3F3E2FA1B46CA866A8D8ED9121406"
      },
      "cell_type" : "code",
      "source" : [
        ""
      ],
      "outputs" : [ ]
    }
  ],
  "nbformat" : 4
}
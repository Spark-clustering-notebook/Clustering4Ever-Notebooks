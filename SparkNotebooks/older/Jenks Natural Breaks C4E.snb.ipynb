{
  "metadata" : {
    "id" : "4b2bd907-5c2e-4930-bd49-a58d5a037535",
    "name" : "Jenks Natural Breaks",
    "user_save_timestamp" : "1970-01-01T01:00:00.000Z",
    "auto_save_timestamp" : "1970-01-01T01:00:00.000Z",
    "language_info" : {
      "name" : "scala",
      "file_extension" : "scala",
      "codemirror_mode" : "text/x-scala"
    },
    "trusted" : true,
    "sparkNotebook" : null,
    "customLocalRepo" : null,
    "customRepos" : [
      "clustering4ever % default % http://dl.bintray.com/clustering4ever/C4E % maven"
    ],
    "customDeps" : [
      "org.clustering4ever %% clustering4ever % 0.7.2"
    ],
    "customImports" : null,
    "customArgs" : null,
    "customSparkConf" : null,
    "customVars" : null
  },
  "cells" : [
    {
      "metadata" : {
        "id" : "BE172624139A4A01951B826AE7AF0CD3"
      },
      "cell_type" : "markdown",
      "source" : "# [Clustering4Ever](https://github.com/Clustering4Ever/Clustering4Ever) on [SparkNotebook](http://spark-notebook.io/) by [LIPN](https://lipn.univ-paris13.fr/) [A3](https://lipn.univ-paris13.fr/accueil/equipe/a3/) team"
    },
    {
      "metadata" : {
        "id" : "D84F486CFB7440A584CC263619A18662"
      },
      "cell_type" : "markdown",
      "source" : "# Jenks Natural Breaks"
    },
    {
      "metadata" : {
        "trusted" : true,
        "input_collapsed" : false,
        "collapsed" : false,
        "id" : "742D2962FB7D44B19D04F3A315F2BA3C"
      },
      "cell_type" : "code",
      "source" : [
        "import org.clustering4ever.scala.clustering.JenksNaturalBreaks\n",
        "import scala.collection.mutable"
      ],
      "outputs" : [
        {
          "name" : "stdout",
          "output_type" : "stream",
          "text" : "import org.clustering4ever.scala.clustering.JenksNaturalBreaks\nimport scala.collection.mutable\n"
        },
        {
          "metadata" : { },
          "data" : {
            "text/html" : ""
          },
          "output_type" : "execute_result",
          "execution_count" : 1,
          "time" : "Took: 0.962s, at 2018-11-15 21:31"
        }
      ]
    },
    {
      "metadata" : {
        "trusted" : true,
        "input_collapsed" : false,
        "collapsed" : true,
        "id" : "D4419D13D8884D118B394790BFF2325F"
      },
      "cell_type" : "code",
      "source" : [
        "val gs = Array.fill(1000)(scala.util.Random.nextDouble).sorted"
      ],
      "outputs" : [ ]
    },
    {
      "metadata" : {
        "trusted" : true,
        "input_collapsed" : false,
        "collapsed" : true,
        "presentation" : {
          "tabs_state" : "{\n  \"tab_id\": \"#tab1961620904-0\"\n}",
          "pivot_chart_state" : "{\n  \"hiddenAttributes\": [],\n  \"menuLimit\": 200,\n  \"cols\": [],\n  \"rows\": [],\n  \"vals\": [],\n  \"exclusions\": {},\n  \"inclusions\": {},\n  \"unusedAttrsVertical\": 85,\n  \"autoSortUnusedAttrs\": false,\n  \"inclusionsInfo\": {},\n  \"aggregatorName\": \"Count\",\n  \"rendererName\": \"Table\"\n}"
        },
        "id" : "1B0F3F60873A42959F2E58D499677814"
      },
      "cell_type" : "code",
      "source" : [
        "val breaks = 5\n",
        "\n",
        "val model = JenksNaturalBreaks.run(gs, breaks)"
      ],
      "outputs" : [ ]
    },
    {
      "metadata" : {
        "id" : "2955FB64C45747EA8C9BB2A4B480BF16"
      },
      "cell_type" : "markdown",
      "source" : "# Fill clusters"
    },
    {
      "metadata" : {
        "trusted" : true,
        "input_collapsed" : false,
        "collapsed" : false,
        "id" : "AC7968B361D84B0F8AF459DB829F0CA4"
      },
      "cell_type" : "code",
      "source" : [
        "val values = Array.fill(breaks - 1)(mutable.ArrayBuffer.empty[Double])\n",
        "\n",
        "gs.foreach( v => values(jnb.find(_._1 > v).getOrElse((0D, breaks - 1))._2 - 1) += v )"
      ],
      "outputs" : [
        {
          "name" : "stdout",
          "output_type" : "stream",
          "text" : "<console>:71: error: not found: value breaks\n       val values = Array.fill(breaks - 1)(mutable.ArrayBuffer.empty[Double])\n                               ^\n"
        }
      ]
    },
    {
      "metadata" : {
        "trusted" : true,
        "input_collapsed" : false,
        "collapsed" : false,
        "presentation" : {
          "tabs_state" : "{\n  \"tab_id\": \"#tab1965354657-0\"\n}",
          "pivot_chart_state" : "{\n  \"hiddenAttributes\": [],\n  \"menuLimit\": 200,\n  \"cols\": [],\n  \"rows\": [],\n  \"vals\": [],\n  \"exclusions\": {},\n  \"inclusions\": {},\n  \"unusedAttrsVertical\": 85,\n  \"autoSortUnusedAttrs\": false,\n  \"inclusionsInfo\": {},\n  \"aggregatorName\": \"Count\",\n  \"rendererName\": \"Table\"\n}"
        },
        "id" : "BED8A1C4C41D41ACAE96090CBC000A24"
      },
      "cell_type" : "code",
      "source" : [
        "jnb"
      ],
      "outputs" : [
        {
          "name" : "stdout",
          "output_type" : "stream",
          "text" : "<console>:71: error: not found: value jnb\n       jnb\n       ^\n"
        }
      ]
    },
    {
      "metadata" : {
        "trusted" : true,
        "input_collapsed" : false,
        "collapsed" : false,
        "presentation" : {
          "tabs_state" : "{\n  \"tab_id\": \"#tab1908177259-0\"\n}",
          "pivot_chart_state" : "{\n  \"hiddenAttributes\": [],\n  \"menuLimit\": 200,\n  \"cols\": [],\n  \"rows\": [],\n  \"vals\": [],\n  \"exclusions\": {},\n  \"inclusions\": {},\n  \"unusedAttrsVertical\": 85,\n  \"autoSortUnusedAttrs\": false,\n  \"inclusionsInfo\": {},\n  \"aggregatorName\": \"Count\",\n  \"rendererName\": \"Table\"\n}"
        },
        "id" : "A60646F4CC75485D819BEA37BAA88CB3"
      },
      "cell_type" : "code",
      "source" : [
        "values.map(_.size)"
      ],
      "outputs" : [
        {
          "name" : "stdout",
          "output_type" : "stream",
          "text" : "<console>:71: error: not found: value values\n       values.map(_.size)\n       ^\n"
        }
      ]
    }
  ],
  "nbformat" : 4
}